{
  "nbformat": 4,
  "nbformat_minor": 0,
  "metadata": {
    "colab": {
      "provenance": [],
      "include_colab_link": true
    },
    "kernelspec": {
      "name": "python3",
      "display_name": "Python 3"
    },
    "language_info": {
      "name": "python"
    }
  },
  "cells": [
    {
      "cell_type": "markdown",
      "metadata": {
        "id": "view-in-github",
        "colab_type": "text"
      },
      "source": [
        "<a href=\"https://colab.research.google.com/github/yuribp0107/Congreso_Tecnologos_medicos_2023/blob/main/Congreso_Tecnologos_M%C3%A9dicos_Chile_2023_Yuri_Berrios.ipynb\" target=\"_parent\"><img src=\"https://colab.research.google.com/assets/colab-badge.svg\" alt=\"Open In Colab\"/></a>"
      ]
    },
    {
      "cell_type": "markdown",
      "source": [
        "##**Instalacion de librerias**"
      ],
      "metadata": {
        "id": "RPfuMEINLuy1"
      }
    },
    {
      "cell_type": "markdown",
      "source": [
        "**Introducción**:\n",
        "\n",
        "El siguiente código Python importa bibliotecas y herramientas esenciales para tareas de aprendizaje automático y visualización de datos. Cada línea de importación tiene un propósito específico en el proceso de análisis y modelado de datos."
      ],
      "metadata": {
        "id": "hSwJUlWZRDlM"
      }
    },
    {
      "cell_type": "markdown",
      "source": [
        "###**Manipulación de Datos y Matriz Numérica**"
      ],
      "metadata": {
        "id": "vK1zfXMkRJC_"
      }
    },
    {
      "cell_type": "markdown",
      "source": [
        "En esta sección, importamos NumPy, una biblioteca fundamental para realizar operaciones numéricas eficientes en Python."
      ],
      "metadata": {
        "id": "XI1efBsfRVZo"
      }
    },
    {
      "cell_type": "code",
      "source": [
        "# Importamos NumPy para operaciones numéricas\n",
        "import numpy as np"
      ],
      "metadata": {
        "id": "7MiBEFiMRUtx"
      },
      "execution_count": 1,
      "outputs": []
    },
    {
      "cell_type": "markdown",
      "source": [
        "Esta línea de código importa la biblioteca pandas, que es una herramienta esencial para la manipulación y análisis de datos en Python. Usar el alias pd es una convención común que facilita el acceso a las funciones y métodos de pandas a lo largo del código."
      ],
      "metadata": {
        "id": "E9iG15icTxGT"
      }
    },
    {
      "cell_type": "code",
      "source": [
        "# Importamos la biblioteca pandas y le asignamos el alias 'pd'\n",
        "import pandas as pd"
      ],
      "metadata": {
        "id": "8H7-_vM2TxGU"
      },
      "execution_count": 2,
      "outputs": []
    },
    {
      "cell_type": "markdown",
      "source": [
        "###**Visualización de Datos**"
      ],
      "metadata": {
        "id": "zMjCgRTsRaOB"
      }
    },
    {
      "cell_type": "markdown",
      "source": [
        "Aquí, importamos Matplotlib y Seaborn, dos bibliotecas que nos permiten crear gráficos y visualizaciones atractivas y efectivas."
      ],
      "metadata": {
        "id": "xsdzxmIvRvgJ"
      }
    },
    {
      "cell_type": "code",
      "source": [
        "# Importamos Matplotlib y Seaborn para visualización de datos\n",
        "import matplotlib.pyplot as plt\n",
        "import seaborn as sns"
      ],
      "metadata": {
        "id": "1WYuZa1eRvH5"
      },
      "execution_count": 3,
      "outputs": []
    },
    {
      "cell_type": "markdown",
      "source": [
        "###**Preprocesamiento de Datos**"
      ],
      "metadata": {
        "id": "Zf2rd5haV2It"
      }
    },
    {
      "cell_type": "markdown",
      "source": [
        "Estas líneas importan herramientas para el preprocesamiento de datos, como la imputación de valores faltantes, el escalado de características y la selección de características.\n"
      ],
      "metadata": {
        "id": "np4phkUWV2Iw"
      }
    },
    {
      "cell_type": "code",
      "source": [
        "# Importamos SimpleImputer para el manejo de valores faltantes\n",
        "from sklearn.impute import SimpleImputer\n",
        "# Importamos StandardScaler para escalar características\n",
        "from sklearn.preprocessing import StandardScaler\n",
        "# Importamos SelectKBest y las funciones de puntuación de características f_classif\n",
        "from sklearn.feature_selection import SelectKBest, f_classif"
      ],
      "metadata": {
        "id": "jWVJi-GuV2Iy"
      },
      "execution_count": 4,
      "outputs": []
    },
    {
      "cell_type": "markdown",
      "source": [
        "###**Manejo de Desbalanceo de Clases**"
      ],
      "metadata": {
        "id": "CdTXffwIW1hu"
      }
    },
    {
      "cell_type": "markdown",
      "source": [
        "Utilizamos la biblioteca imbalanced-learn para manejar problemas relacionados con clases desbalanceadas en nuestros datos utilizando la técnica de sobremuestreo aleatorio.\n"
      ],
      "metadata": {
        "id": "6-L3A781W1hw"
      }
    },
    {
      "cell_type": "code",
      "source": [
        "# Importamos imbalanced-learn para abordar problemas de clases desbalanceadas\n",
        "!pip install -U imbalanced-learn\n",
        "from imblearn.over_sampling import RandomOverSampler"
      ],
      "metadata": {
        "colab": {
          "base_uri": "https://localhost:8080/"
        },
        "id": "1a01WLN-W1hy",
        "outputId": "ead2340d-80d8-495a-bdf5-1e2efe26e996"
      },
      "execution_count": 5,
      "outputs": [
        {
          "output_type": "stream",
          "name": "stdout",
          "text": [
            "Requirement already satisfied: imbalanced-learn in /usr/local/lib/python3.10/dist-packages (0.10.1)\n",
            "Collecting imbalanced-learn\n",
            "  Downloading imbalanced_learn-0.11.0-py3-none-any.whl (235 kB)\n",
            "\u001b[2K     \u001b[90m━━━━━━━━━━━━━━━━━━━━━━━━━━━━━━━━━━━━━━━\u001b[0m \u001b[32m235.6/235.6 kB\u001b[0m \u001b[31m3.6 MB/s\u001b[0m eta \u001b[36m0:00:00\u001b[0m\n",
            "\u001b[?25hRequirement already satisfied: numpy>=1.17.3 in /usr/local/lib/python3.10/dist-packages (from imbalanced-learn) (1.23.5)\n",
            "Requirement already satisfied: scipy>=1.5.0 in /usr/local/lib/python3.10/dist-packages (from imbalanced-learn) (1.11.3)\n",
            "Requirement already satisfied: scikit-learn>=1.0.2 in /usr/local/lib/python3.10/dist-packages (from imbalanced-learn) (1.2.2)\n",
            "Requirement already satisfied: joblib>=1.1.1 in /usr/local/lib/python3.10/dist-packages (from imbalanced-learn) (1.3.2)\n",
            "Requirement already satisfied: threadpoolctl>=2.0.0 in /usr/local/lib/python3.10/dist-packages (from imbalanced-learn) (3.2.0)\n",
            "Installing collected packages: imbalanced-learn\n",
            "  Attempting uninstall: imbalanced-learn\n",
            "    Found existing installation: imbalanced-learn 0.10.1\n",
            "    Uninstalling imbalanced-learn-0.10.1:\n",
            "      Successfully uninstalled imbalanced-learn-0.10.1\n",
            "Successfully installed imbalanced-learn-0.11.0\n"
          ]
        }
      ]
    },
    {
      "cell_type": "markdown",
      "source": [
        "###**scikit-learn para Aprendizaje Automático**"
      ],
      "metadata": {
        "id": "fhrTRsUCR0d9"
      }
    },
    {
      "cell_type": "markdown",
      "source": [
        "En esta parte, introducimos scikit-learn, una biblioteca integral para realizar tareas de aprendizaje automático y minería de datos."
      ],
      "metadata": {
        "id": "TIzvsKlRR7PI"
      }
    },
    {
      "cell_type": "markdown",
      "source": [
        "####**Gestión de Datos y Conjunto de Datos**"
      ],
      "metadata": {
        "id": "Cn0el_EaSA4F"
      }
    },
    {
      "cell_type": "markdown",
      "source": [
        "Aquí, importamos un conjunto de datos específico relacionado con el cáncer de mama. Esto es fundamental para entrenar y evaluar modelos relacionados con la detección de esta enfermedad."
      ],
      "metadata": {
        "id": "oAwjCpcNR-1O"
      }
    },
    {
      "cell_type": "code",
      "source": [
        "# Importamos el conjunto de datos de cáncer de mama de scikit-learn\n",
        "from sklearn.datasets import load_breast_cancer"
      ],
      "metadata": {
        "id": "rGWP8JrGSPgd"
      },
      "execution_count": 6,
      "outputs": []
    },
    {
      "cell_type": "markdown",
      "source": [
        "####**División de Datos en Entrenamiento y Prueba**"
      ],
      "metadata": {
        "id": "Qu2pVS3tSbCu"
      }
    },
    {
      "cell_type": "markdown",
      "source": [
        "Esta línea importa la función train_test_split que nos permite dividir nuestro conjunto de datos en dos conjuntos: uno para entrenar nuestros modelos y otro para evaluarlos."
      ],
      "metadata": {
        "id": "4ufDSDNiSbyF"
      }
    },
    {
      "cell_type": "code",
      "source": [
        "# Importamos la función train_test_split para dividir el conjunto de datos en entrenamiento y prueba\n",
        "from sklearn.model_selection import train_test_split"
      ],
      "metadata": {
        "id": "uPBBD4gSScS5"
      },
      "execution_count": 7,
      "outputs": []
    },
    {
      "cell_type": "markdown",
      "source": [
        "####**Modelos de Aprendizaje Automático**"
      ],
      "metadata": {
        "id": "WIpXyNG7S0F6"
      }
    },
    {
      "cell_type": "markdown",
      "source": [
        "Estas líneas importan diferentes modelos de aprendizaje automático que se pueden utilizar para abordar una variedad de tareas de clasificación y regresión."
      ],
      "metadata": {
        "id": "QV7bO0mOS7-H"
      }
    },
    {
      "cell_type": "code",
      "source": [
        "# Importamos LinearRegression para modelos de regresión lineal y LogisticRegression para clasificación logística\n",
        "from sklearn.linear_model import LinearRegression, LogisticRegression\n",
        "# Importamos el modelo de regresión logística\n",
        "from sklearn.linear_model import LogisticRegression\n",
        "# Importamos el clasificador de árbol de decisión\n",
        "from sklearn.tree import DecisionTreeClassifier\n",
        "# Importamos el clasificador de máquinas de soporte vectorial (SVM)\n",
        "from sklearn.svm import SVC\n",
        "# Importamos el clasificador de redes neuronales MLP (Perceptrón multicapa)\n",
        "from sklearn.neural_network import MLPClassifier\n",
        "# Importamos el clasificador K vecinos más cercanos (K-Nearest Neighbors)\n",
        "from sklearn.neighbors import KNeighborsClassifier"
      ],
      "metadata": {
        "id": "XK3poiteS8n4"
      },
      "execution_count": 8,
      "outputs": []
    },
    {
      "cell_type": "markdown",
      "source": [
        "####**Validación Cruzada y Búsqueda de Hiperparámetros**"
      ],
      "metadata": {
        "id": "RBemUDUTWiQ3"
      }
    },
    {
      "cell_type": "markdown",
      "source": [
        "En esta sección, importamos clases que nos ayudarán a realizar una validación cruzada estratificada y una búsqueda de hiperparámetros para mejorar nuestros modelos."
      ],
      "metadata": {
        "id": "5nsCi00rWiQ6"
      }
    },
    {
      "cell_type": "code",
      "source": [
        "# Importamos RepeatedStratifiedKFold y GridSearchCV para búsqueda de hiperparámetros\n",
        "from sklearn.model_selection import RepeatedStratifiedKFold, GridSearchCV"
      ],
      "metadata": {
        "id": "IhSEfsVeWiQ8"
      },
      "execution_count": 9,
      "outputs": []
    },
    {
      "cell_type": "markdown",
      "source": [
        "####**Métricas de Evaluación de Modelos**"
      ],
      "metadata": {
        "id": "5SSQesioTCXC"
      }
    },
    {
      "cell_type": "markdown",
      "source": [
        "En esta sección, importamos métricas clave para evaluar el rendimiento de nuestros modelos de clasificación, como la curva ROC y el área bajo la curva (AUC). confusion_matrix y classification_report"
      ],
      "metadata": {
        "id": "3ox11ACVTC4s"
      }
    },
    {
      "cell_type": "code",
      "source": [
        "# Importamos las métricas ROC curve y AUC para evaluación del modelo\n",
        "from sklearn.metrics import roc_curve, auc, confusion_matrix, classification_report"
      ],
      "metadata": {
        "id": "WtZaqAnTTDMv"
      },
      "execution_count": 10,
      "outputs": []
    },
    {
      "cell_type": "markdown",
      "source": [
        "##**Analisis exploratorio de datos**"
      ],
      "metadata": {
        "id": "1m-cGdy7X0G_"
      }
    },
    {
      "cell_type": "markdown",
      "source": [
        "###**Cargar datos**"
      ],
      "metadata": {
        "id": "5JPwycaudL65"
      }
    },
    {
      "cell_type": "markdown",
      "source": [
        "Esta línea de código carga el conjunto de datos de cáncer de mama de Wisconsin en un DataFrame de Pandas (df) y organiza los datos en un formato tabular, con las características en las columnas y la variable objetivo en una columna separada llamada 'target'. Esto facilita el análisis y la manipulación de los datos utilizando las herramientas de Pandas y Python.\n",
        "\n",
        "\n",
        "\n",
        "\n",
        "\n"
      ],
      "metadata": {
        "id": "W7irjgiOcWWs"
      }
    },
    {
      "cell_type": "code",
      "source": [
        "# Cargar el conjunto de datos de cáncer de mama de Wisconsin\n",
        "data = load_breast_cancer()\n",
        "df = pd.DataFrame(data.data, columns=data.feature_names)\n",
        "df['target'] = data.target"
      ],
      "metadata": {
        "id": "K8x5pGugcNCE"
      },
      "execution_count": 11,
      "outputs": []
    },
    {
      "cell_type": "markdown",
      "source": [
        "\n",
        "1.   data = load_breast_cancer(): En esta parte, se está utilizando la función load_breast_cancer() de scikit-learn para cargar el conjunto de datos de cáncer de mama de Wisconsin en la variable data. Este conjunto de datos es ampliamente utilizado en el análisis de datos y tareas de clasificación y contiene información sobre tumores mamarios y su diagnóstico.\n",
        "\n",
        "2.   df = pd.DataFrame(data.data, columns=data.feature_names): Aquí, se está creando un DataFrame de Pandas llamado df. Se toma la matriz de datos data.data del objeto data cargado previamente, que contiene las características del conjunto de datos (por ejemplo, el tamaño del tumor, la textura, la suavidad, etc.). Luego, se asignan los nombres de las columnas a través de columns=data.feature_names, que toma los nombres de las características del objeto data. Esto crea un DataFrame con características descriptivas en las columnas.\n",
        "\n",
        "3.   df['target'] = data.target: Finalmente, se agrega una nueva columna llamada 'target' al DataFrame df. Esta columna se asigna a partir del atributo data.target del objeto data original. En este conjunto de datos, el 'target' representa la variable objetivo que indica si un tumor es benigno (0) o maligno (1).\n",
        "\n"
      ],
      "metadata": {
        "id": "sw3A7jQBcoZk"
      }
    },
    {
      "cell_type": "markdown",
      "source": [
        "###**Informacion general del conjunto de datos**"
      ],
      "metadata": {
        "id": "zVTWtmihdTL1"
      }
    },
    {
      "cell_type": "markdown",
      "source": [
        "La línea de código que mencionas está creando un DataFrame de Pandas llamado info_df que almacena información general sobre las columnas del conjunto de datos. Aquí está la explicación detallada de esa línea:"
      ],
      "metadata": {
        "id": "JFU4ucChefHj"
      }
    },
    {
      "cell_type": "code",
      "source": [
        "# Almacenar información general del conjunto de datos en un DataFrame\n",
        "info_df = pd.DataFrame({'Tipos de Datos': df.dtypes,\n",
        "                        'Valores Faltantes': df.isnull().sum()})\n",
        "info_df\n"
      ],
      "metadata": {
        "colab": {
          "base_uri": "https://localhost:8080/",
          "height": 1000
        },
        "id": "_e2tKCaodvDc",
        "outputId": "11cb3181-5d42-4eaf-db85-061c3e746954"
      },
      "execution_count": 12,
      "outputs": [
        {
          "output_type": "execute_result",
          "data": {
            "text/plain": [
              "                        Tipos de Datos  Valores Faltantes\n",
              "mean radius                    float64                  0\n",
              "mean texture                   float64                  0\n",
              "mean perimeter                 float64                  0\n",
              "mean area                      float64                  0\n",
              "mean smoothness                float64                  0\n",
              "mean compactness               float64                  0\n",
              "mean concavity                 float64                  0\n",
              "mean concave points            float64                  0\n",
              "mean symmetry                  float64                  0\n",
              "mean fractal dimension         float64                  0\n",
              "radius error                   float64                  0\n",
              "texture error                  float64                  0\n",
              "perimeter error                float64                  0\n",
              "area error                     float64                  0\n",
              "smoothness error               float64                  0\n",
              "compactness error              float64                  0\n",
              "concavity error                float64                  0\n",
              "concave points error           float64                  0\n",
              "symmetry error                 float64                  0\n",
              "fractal dimension error        float64                  0\n",
              "worst radius                   float64                  0\n",
              "worst texture                  float64                  0\n",
              "worst perimeter                float64                  0\n",
              "worst area                     float64                  0\n",
              "worst smoothness               float64                  0\n",
              "worst compactness              float64                  0\n",
              "worst concavity                float64                  0\n",
              "worst concave points           float64                  0\n",
              "worst symmetry                 float64                  0\n",
              "worst fractal dimension        float64                  0\n",
              "target                           int64                  0"
            ],
            "text/html": [
              "\n",
              "  <div id=\"df-36c9301c-0e5f-4565-865e-ba97b7b6b84d\" class=\"colab-df-container\">\n",
              "    <div>\n",
              "<style scoped>\n",
              "    .dataframe tbody tr th:only-of-type {\n",
              "        vertical-align: middle;\n",
              "    }\n",
              "\n",
              "    .dataframe tbody tr th {\n",
              "        vertical-align: top;\n",
              "    }\n",
              "\n",
              "    .dataframe thead th {\n",
              "        text-align: right;\n",
              "    }\n",
              "</style>\n",
              "<table border=\"1\" class=\"dataframe\">\n",
              "  <thead>\n",
              "    <tr style=\"text-align: right;\">\n",
              "      <th></th>\n",
              "      <th>Tipos de Datos</th>\n",
              "      <th>Valores Faltantes</th>\n",
              "    </tr>\n",
              "  </thead>\n",
              "  <tbody>\n",
              "    <tr>\n",
              "      <th>mean radius</th>\n",
              "      <td>float64</td>\n",
              "      <td>0</td>\n",
              "    </tr>\n",
              "    <tr>\n",
              "      <th>mean texture</th>\n",
              "      <td>float64</td>\n",
              "      <td>0</td>\n",
              "    </tr>\n",
              "    <tr>\n",
              "      <th>mean perimeter</th>\n",
              "      <td>float64</td>\n",
              "      <td>0</td>\n",
              "    </tr>\n",
              "    <tr>\n",
              "      <th>mean area</th>\n",
              "      <td>float64</td>\n",
              "      <td>0</td>\n",
              "    </tr>\n",
              "    <tr>\n",
              "      <th>mean smoothness</th>\n",
              "      <td>float64</td>\n",
              "      <td>0</td>\n",
              "    </tr>\n",
              "    <tr>\n",
              "      <th>mean compactness</th>\n",
              "      <td>float64</td>\n",
              "      <td>0</td>\n",
              "    </tr>\n",
              "    <tr>\n",
              "      <th>mean concavity</th>\n",
              "      <td>float64</td>\n",
              "      <td>0</td>\n",
              "    </tr>\n",
              "    <tr>\n",
              "      <th>mean concave points</th>\n",
              "      <td>float64</td>\n",
              "      <td>0</td>\n",
              "    </tr>\n",
              "    <tr>\n",
              "      <th>mean symmetry</th>\n",
              "      <td>float64</td>\n",
              "      <td>0</td>\n",
              "    </tr>\n",
              "    <tr>\n",
              "      <th>mean fractal dimension</th>\n",
              "      <td>float64</td>\n",
              "      <td>0</td>\n",
              "    </tr>\n",
              "    <tr>\n",
              "      <th>radius error</th>\n",
              "      <td>float64</td>\n",
              "      <td>0</td>\n",
              "    </tr>\n",
              "    <tr>\n",
              "      <th>texture error</th>\n",
              "      <td>float64</td>\n",
              "      <td>0</td>\n",
              "    </tr>\n",
              "    <tr>\n",
              "      <th>perimeter error</th>\n",
              "      <td>float64</td>\n",
              "      <td>0</td>\n",
              "    </tr>\n",
              "    <tr>\n",
              "      <th>area error</th>\n",
              "      <td>float64</td>\n",
              "      <td>0</td>\n",
              "    </tr>\n",
              "    <tr>\n",
              "      <th>smoothness error</th>\n",
              "      <td>float64</td>\n",
              "      <td>0</td>\n",
              "    </tr>\n",
              "    <tr>\n",
              "      <th>compactness error</th>\n",
              "      <td>float64</td>\n",
              "      <td>0</td>\n",
              "    </tr>\n",
              "    <tr>\n",
              "      <th>concavity error</th>\n",
              "      <td>float64</td>\n",
              "      <td>0</td>\n",
              "    </tr>\n",
              "    <tr>\n",
              "      <th>concave points error</th>\n",
              "      <td>float64</td>\n",
              "      <td>0</td>\n",
              "    </tr>\n",
              "    <tr>\n",
              "      <th>symmetry error</th>\n",
              "      <td>float64</td>\n",
              "      <td>0</td>\n",
              "    </tr>\n",
              "    <tr>\n",
              "      <th>fractal dimension error</th>\n",
              "      <td>float64</td>\n",
              "      <td>0</td>\n",
              "    </tr>\n",
              "    <tr>\n",
              "      <th>worst radius</th>\n",
              "      <td>float64</td>\n",
              "      <td>0</td>\n",
              "    </tr>\n",
              "    <tr>\n",
              "      <th>worst texture</th>\n",
              "      <td>float64</td>\n",
              "      <td>0</td>\n",
              "    </tr>\n",
              "    <tr>\n",
              "      <th>worst perimeter</th>\n",
              "      <td>float64</td>\n",
              "      <td>0</td>\n",
              "    </tr>\n",
              "    <tr>\n",
              "      <th>worst area</th>\n",
              "      <td>float64</td>\n",
              "      <td>0</td>\n",
              "    </tr>\n",
              "    <tr>\n",
              "      <th>worst smoothness</th>\n",
              "      <td>float64</td>\n",
              "      <td>0</td>\n",
              "    </tr>\n",
              "    <tr>\n",
              "      <th>worst compactness</th>\n",
              "      <td>float64</td>\n",
              "      <td>0</td>\n",
              "    </tr>\n",
              "    <tr>\n",
              "      <th>worst concavity</th>\n",
              "      <td>float64</td>\n",
              "      <td>0</td>\n",
              "    </tr>\n",
              "    <tr>\n",
              "      <th>worst concave points</th>\n",
              "      <td>float64</td>\n",
              "      <td>0</td>\n",
              "    </tr>\n",
              "    <tr>\n",
              "      <th>worst symmetry</th>\n",
              "      <td>float64</td>\n",
              "      <td>0</td>\n",
              "    </tr>\n",
              "    <tr>\n",
              "      <th>worst fractal dimension</th>\n",
              "      <td>float64</td>\n",
              "      <td>0</td>\n",
              "    </tr>\n",
              "    <tr>\n",
              "      <th>target</th>\n",
              "      <td>int64</td>\n",
              "      <td>0</td>\n",
              "    </tr>\n",
              "  </tbody>\n",
              "</table>\n",
              "</div>\n",
              "    <div class=\"colab-df-buttons\">\n",
              "\n",
              "  <div class=\"colab-df-container\">\n",
              "    <button class=\"colab-df-convert\" onclick=\"convertToInteractive('df-36c9301c-0e5f-4565-865e-ba97b7b6b84d')\"\n",
              "            title=\"Convert this dataframe to an interactive table.\"\n",
              "            style=\"display:none;\">\n",
              "\n",
              "  <svg xmlns=\"http://www.w3.org/2000/svg\" height=\"24px\" viewBox=\"0 -960 960 960\">\n",
              "    <path d=\"M120-120v-720h720v720H120Zm60-500h600v-160H180v160Zm220 220h160v-160H400v160Zm0 220h160v-160H400v160ZM180-400h160v-160H180v160Zm440 0h160v-160H620v160ZM180-180h160v-160H180v160Zm440 0h160v-160H620v160Z\"/>\n",
              "  </svg>\n",
              "    </button>\n",
              "\n",
              "  <style>\n",
              "    .colab-df-container {\n",
              "      display:flex;\n",
              "      gap: 12px;\n",
              "    }\n",
              "\n",
              "    .colab-df-convert {\n",
              "      background-color: #E8F0FE;\n",
              "      border: none;\n",
              "      border-radius: 50%;\n",
              "      cursor: pointer;\n",
              "      display: none;\n",
              "      fill: #1967D2;\n",
              "      height: 32px;\n",
              "      padding: 0 0 0 0;\n",
              "      width: 32px;\n",
              "    }\n",
              "\n",
              "    .colab-df-convert:hover {\n",
              "      background-color: #E2EBFA;\n",
              "      box-shadow: 0px 1px 2px rgba(60, 64, 67, 0.3), 0px 1px 3px 1px rgba(60, 64, 67, 0.15);\n",
              "      fill: #174EA6;\n",
              "    }\n",
              "\n",
              "    .colab-df-buttons div {\n",
              "      margin-bottom: 4px;\n",
              "    }\n",
              "\n",
              "    [theme=dark] .colab-df-convert {\n",
              "      background-color: #3B4455;\n",
              "      fill: #D2E3FC;\n",
              "    }\n",
              "\n",
              "    [theme=dark] .colab-df-convert:hover {\n",
              "      background-color: #434B5C;\n",
              "      box-shadow: 0px 1px 3px 1px rgba(0, 0, 0, 0.15);\n",
              "      filter: drop-shadow(0px 1px 2px rgba(0, 0, 0, 0.3));\n",
              "      fill: #FFFFFF;\n",
              "    }\n",
              "  </style>\n",
              "\n",
              "    <script>\n",
              "      const buttonEl =\n",
              "        document.querySelector('#df-36c9301c-0e5f-4565-865e-ba97b7b6b84d button.colab-df-convert');\n",
              "      buttonEl.style.display =\n",
              "        google.colab.kernel.accessAllowed ? 'block' : 'none';\n",
              "\n",
              "      async function convertToInteractive(key) {\n",
              "        const element = document.querySelector('#df-36c9301c-0e5f-4565-865e-ba97b7b6b84d');\n",
              "        const dataTable =\n",
              "          await google.colab.kernel.invokeFunction('convertToInteractive',\n",
              "                                                    [key], {});\n",
              "        if (!dataTable) return;\n",
              "\n",
              "        const docLinkHtml = 'Like what you see? Visit the ' +\n",
              "          '<a target=\"_blank\" href=https://colab.research.google.com/notebooks/data_table.ipynb>data table notebook</a>'\n",
              "          + ' to learn more about interactive tables.';\n",
              "        element.innerHTML = '';\n",
              "        dataTable['output_type'] = 'display_data';\n",
              "        await google.colab.output.renderOutput(dataTable, element);\n",
              "        const docLink = document.createElement('div');\n",
              "        docLink.innerHTML = docLinkHtml;\n",
              "        element.appendChild(docLink);\n",
              "      }\n",
              "    </script>\n",
              "  </div>\n",
              "\n",
              "\n",
              "<div id=\"df-d8facde8-7880-41c0-bb5c-7e79961b7e01\">\n",
              "  <button class=\"colab-df-quickchart\" onclick=\"quickchart('df-d8facde8-7880-41c0-bb5c-7e79961b7e01')\"\n",
              "            title=\"Suggest charts.\"\n",
              "            style=\"display:none;\">\n",
              "\n",
              "<svg xmlns=\"http://www.w3.org/2000/svg\" height=\"24px\"viewBox=\"0 0 24 24\"\n",
              "     width=\"24px\">\n",
              "    <g>\n",
              "        <path d=\"M19 3H5c-1.1 0-2 .9-2 2v14c0 1.1.9 2 2 2h14c1.1 0 2-.9 2-2V5c0-1.1-.9-2-2-2zM9 17H7v-7h2v7zm4 0h-2V7h2v10zm4 0h-2v-4h2v4z\"/>\n",
              "    </g>\n",
              "</svg>\n",
              "  </button>\n",
              "\n",
              "<style>\n",
              "  .colab-df-quickchart {\n",
              "      --bg-color: #E8F0FE;\n",
              "      --fill-color: #1967D2;\n",
              "      --hover-bg-color: #E2EBFA;\n",
              "      --hover-fill-color: #174EA6;\n",
              "      --disabled-fill-color: #AAA;\n",
              "      --disabled-bg-color: #DDD;\n",
              "  }\n",
              "\n",
              "  [theme=dark] .colab-df-quickchart {\n",
              "      --bg-color: #3B4455;\n",
              "      --fill-color: #D2E3FC;\n",
              "      --hover-bg-color: #434B5C;\n",
              "      --hover-fill-color: #FFFFFF;\n",
              "      --disabled-bg-color: #3B4455;\n",
              "      --disabled-fill-color: #666;\n",
              "  }\n",
              "\n",
              "  .colab-df-quickchart {\n",
              "    background-color: var(--bg-color);\n",
              "    border: none;\n",
              "    border-radius: 50%;\n",
              "    cursor: pointer;\n",
              "    display: none;\n",
              "    fill: var(--fill-color);\n",
              "    height: 32px;\n",
              "    padding: 0;\n",
              "    width: 32px;\n",
              "  }\n",
              "\n",
              "  .colab-df-quickchart:hover {\n",
              "    background-color: var(--hover-bg-color);\n",
              "    box-shadow: 0 1px 2px rgba(60, 64, 67, 0.3), 0 1px 3px 1px rgba(60, 64, 67, 0.15);\n",
              "    fill: var(--button-hover-fill-color);\n",
              "  }\n",
              "\n",
              "  .colab-df-quickchart-complete:disabled,\n",
              "  .colab-df-quickchart-complete:disabled:hover {\n",
              "    background-color: var(--disabled-bg-color);\n",
              "    fill: var(--disabled-fill-color);\n",
              "    box-shadow: none;\n",
              "  }\n",
              "\n",
              "  .colab-df-spinner {\n",
              "    border: 2px solid var(--fill-color);\n",
              "    border-color: transparent;\n",
              "    border-bottom-color: var(--fill-color);\n",
              "    animation:\n",
              "      spin 1s steps(1) infinite;\n",
              "  }\n",
              "\n",
              "  @keyframes spin {\n",
              "    0% {\n",
              "      border-color: transparent;\n",
              "      border-bottom-color: var(--fill-color);\n",
              "      border-left-color: var(--fill-color);\n",
              "    }\n",
              "    20% {\n",
              "      border-color: transparent;\n",
              "      border-left-color: var(--fill-color);\n",
              "      border-top-color: var(--fill-color);\n",
              "    }\n",
              "    30% {\n",
              "      border-color: transparent;\n",
              "      border-left-color: var(--fill-color);\n",
              "      border-top-color: var(--fill-color);\n",
              "      border-right-color: var(--fill-color);\n",
              "    }\n",
              "    40% {\n",
              "      border-color: transparent;\n",
              "      border-right-color: var(--fill-color);\n",
              "      border-top-color: var(--fill-color);\n",
              "    }\n",
              "    60% {\n",
              "      border-color: transparent;\n",
              "      border-right-color: var(--fill-color);\n",
              "    }\n",
              "    80% {\n",
              "      border-color: transparent;\n",
              "      border-right-color: var(--fill-color);\n",
              "      border-bottom-color: var(--fill-color);\n",
              "    }\n",
              "    90% {\n",
              "      border-color: transparent;\n",
              "      border-bottom-color: var(--fill-color);\n",
              "    }\n",
              "  }\n",
              "</style>\n",
              "\n",
              "  <script>\n",
              "    async function quickchart(key) {\n",
              "      const quickchartButtonEl =\n",
              "        document.querySelector('#' + key + ' button');\n",
              "      quickchartButtonEl.disabled = true;  // To prevent multiple clicks.\n",
              "      quickchartButtonEl.classList.add('colab-df-spinner');\n",
              "      try {\n",
              "        const charts = await google.colab.kernel.invokeFunction(\n",
              "            'suggestCharts', [key], {});\n",
              "      } catch (error) {\n",
              "        console.error('Error during call to suggestCharts:', error);\n",
              "      }\n",
              "      quickchartButtonEl.classList.remove('colab-df-spinner');\n",
              "      quickchartButtonEl.classList.add('colab-df-quickchart-complete');\n",
              "    }\n",
              "    (() => {\n",
              "      let quickchartButtonEl =\n",
              "        document.querySelector('#df-d8facde8-7880-41c0-bb5c-7e79961b7e01 button');\n",
              "      quickchartButtonEl.style.display =\n",
              "        google.colab.kernel.accessAllowed ? 'block' : 'none';\n",
              "    })();\n",
              "  </script>\n",
              "</div>\n",
              "    </div>\n",
              "  </div>\n"
            ]
          },
          "metadata": {},
          "execution_count": 12
        }
      ]
    },
    {
      "cell_type": "markdown",
      "source": [
        "\n",
        "\n",
        "1.   pd.DataFrame(...): Esto crea un nuevo DataFrame de Pandas. Dentro del paréntesis, proporcionamos un diccionario que especifica las columnas y sus respectivos valores. Cada clave en el diccionario se convierte en una columna en el DataFrame, y los valores asociados a esas claves se convierten en los datos de esa columna.\n",
        "\n",
        "2.   'Tipos de Datos': df.dtypes: En esta parte, estamos creando una columna llamada 'Tipos de Datos'. Los valores en esta columna son los tipos de datos de cada columna en el DataFrame original df. Se obtienen utilizando la propiedad dtypes, que proporciona los tipos de datos de cada columna en el DataFrame original.\n",
        "\n",
        "3.   'Valores Faltantes': df.isnull().sum(): Aquí, estamos creando una columna llamada 'Valores Faltantes'. Los valores en esta columna representan la cantidad de valores faltantes (NaN) en cada columna del DataFrame original df. Se obtienen utilizando df.isnull().sum(), que calcula la suma de valores nulos para cada columna.\n",
        "\n",
        "\n"
      ],
      "metadata": {
        "id": "YY0c86t1ehFL"
      }
    },
    {
      "cell_type": "markdown",
      "source": [
        "###**Informacion general del conjunto de datos**"
      ],
      "metadata": {
        "id": "OLPO0eNwhIDk"
      }
    },
    {
      "cell_type": "markdown",
      "source": [
        "Esta línea de código genera un DataFrame llamado estadisticas_descriptivas que contiene estadísticas resumidas (como promedio, mediana, desviación estándar, mínimo, máximo, etc.) para todas las columnas numéricas en el DataFrame original df. Esto es especialmente útil para obtener una rápida comprensión de la distribución y resumen de los datos en el conjunto de datos."
      ],
      "metadata": {
        "id": "1FzpX96YhmzD"
      }
    },
    {
      "cell_type": "code",
      "source": [
        "# Crear un DataFrame con estadísticas descriptivas\n",
        "estadisticas_descriptivas = df.describe()\n",
        "estadisticas_descriptivas\n"
      ],
      "metadata": {
        "colab": {
          "base_uri": "https://localhost:8080/",
          "height": 374
        },
        "id": "pjRawZyBghnb",
        "outputId": "254c396e-1fd6-4cbc-b51b-4d992dd2c66a"
      },
      "execution_count": 13,
      "outputs": [
        {
          "output_type": "execute_result",
          "data": {
            "text/plain": [
              "       mean radius  mean texture  mean perimeter    mean area  \\\n",
              "count   569.000000    569.000000      569.000000   569.000000   \n",
              "mean     14.127292     19.289649       91.969033   654.889104   \n",
              "std       3.524049      4.301036       24.298981   351.914129   \n",
              "min       6.981000      9.710000       43.790000   143.500000   \n",
              "25%      11.700000     16.170000       75.170000   420.300000   \n",
              "50%      13.370000     18.840000       86.240000   551.100000   \n",
              "75%      15.780000     21.800000      104.100000   782.700000   \n",
              "max      28.110000     39.280000      188.500000  2501.000000   \n",
              "\n",
              "       mean smoothness  mean compactness  mean concavity  mean concave points  \\\n",
              "count       569.000000        569.000000      569.000000           569.000000   \n",
              "mean          0.096360          0.104341        0.088799             0.048919   \n",
              "std           0.014064          0.052813        0.079720             0.038803   \n",
              "min           0.052630          0.019380        0.000000             0.000000   \n",
              "25%           0.086370          0.064920        0.029560             0.020310   \n",
              "50%           0.095870          0.092630        0.061540             0.033500   \n",
              "75%           0.105300          0.130400        0.130700             0.074000   \n",
              "max           0.163400          0.345400        0.426800             0.201200   \n",
              "\n",
              "       mean symmetry  mean fractal dimension  ...  worst texture  \\\n",
              "count     569.000000              569.000000  ...     569.000000   \n",
              "mean        0.181162                0.062798  ...      25.677223   \n",
              "std         0.027414                0.007060  ...       6.146258   \n",
              "min         0.106000                0.049960  ...      12.020000   \n",
              "25%         0.161900                0.057700  ...      21.080000   \n",
              "50%         0.179200                0.061540  ...      25.410000   \n",
              "75%         0.195700                0.066120  ...      29.720000   \n",
              "max         0.304000                0.097440  ...      49.540000   \n",
              "\n",
              "       worst perimeter   worst area  worst smoothness  worst compactness  \\\n",
              "count       569.000000   569.000000        569.000000         569.000000   \n",
              "mean        107.261213   880.583128          0.132369           0.254265   \n",
              "std          33.602542   569.356993          0.022832           0.157336   \n",
              "min          50.410000   185.200000          0.071170           0.027290   \n",
              "25%          84.110000   515.300000          0.116600           0.147200   \n",
              "50%          97.660000   686.500000          0.131300           0.211900   \n",
              "75%         125.400000  1084.000000          0.146000           0.339100   \n",
              "max         251.200000  4254.000000          0.222600           1.058000   \n",
              "\n",
              "       worst concavity  worst concave points  worst symmetry  \\\n",
              "count       569.000000            569.000000      569.000000   \n",
              "mean          0.272188              0.114606        0.290076   \n",
              "std           0.208624              0.065732        0.061867   \n",
              "min           0.000000              0.000000        0.156500   \n",
              "25%           0.114500              0.064930        0.250400   \n",
              "50%           0.226700              0.099930        0.282200   \n",
              "75%           0.382900              0.161400        0.317900   \n",
              "max           1.252000              0.291000        0.663800   \n",
              "\n",
              "       worst fractal dimension      target  \n",
              "count               569.000000  569.000000  \n",
              "mean                  0.083946    0.627417  \n",
              "std                   0.018061    0.483918  \n",
              "min                   0.055040    0.000000  \n",
              "25%                   0.071460    0.000000  \n",
              "50%                   0.080040    1.000000  \n",
              "75%                   0.092080    1.000000  \n",
              "max                   0.207500    1.000000  \n",
              "\n",
              "[8 rows x 31 columns]"
            ],
            "text/html": [
              "\n",
              "  <div id=\"df-eccfe885-0c97-4323-988f-80761caadc3d\" class=\"colab-df-container\">\n",
              "    <div>\n",
              "<style scoped>\n",
              "    .dataframe tbody tr th:only-of-type {\n",
              "        vertical-align: middle;\n",
              "    }\n",
              "\n",
              "    .dataframe tbody tr th {\n",
              "        vertical-align: top;\n",
              "    }\n",
              "\n",
              "    .dataframe thead th {\n",
              "        text-align: right;\n",
              "    }\n",
              "</style>\n",
              "<table border=\"1\" class=\"dataframe\">\n",
              "  <thead>\n",
              "    <tr style=\"text-align: right;\">\n",
              "      <th></th>\n",
              "      <th>mean radius</th>\n",
              "      <th>mean texture</th>\n",
              "      <th>mean perimeter</th>\n",
              "      <th>mean area</th>\n",
              "      <th>mean smoothness</th>\n",
              "      <th>mean compactness</th>\n",
              "      <th>mean concavity</th>\n",
              "      <th>mean concave points</th>\n",
              "      <th>mean symmetry</th>\n",
              "      <th>mean fractal dimension</th>\n",
              "      <th>...</th>\n",
              "      <th>worst texture</th>\n",
              "      <th>worst perimeter</th>\n",
              "      <th>worst area</th>\n",
              "      <th>worst smoothness</th>\n",
              "      <th>worst compactness</th>\n",
              "      <th>worst concavity</th>\n",
              "      <th>worst concave points</th>\n",
              "      <th>worst symmetry</th>\n",
              "      <th>worst fractal dimension</th>\n",
              "      <th>target</th>\n",
              "    </tr>\n",
              "  </thead>\n",
              "  <tbody>\n",
              "    <tr>\n",
              "      <th>count</th>\n",
              "      <td>569.000000</td>\n",
              "      <td>569.000000</td>\n",
              "      <td>569.000000</td>\n",
              "      <td>569.000000</td>\n",
              "      <td>569.000000</td>\n",
              "      <td>569.000000</td>\n",
              "      <td>569.000000</td>\n",
              "      <td>569.000000</td>\n",
              "      <td>569.000000</td>\n",
              "      <td>569.000000</td>\n",
              "      <td>...</td>\n",
              "      <td>569.000000</td>\n",
              "      <td>569.000000</td>\n",
              "      <td>569.000000</td>\n",
              "      <td>569.000000</td>\n",
              "      <td>569.000000</td>\n",
              "      <td>569.000000</td>\n",
              "      <td>569.000000</td>\n",
              "      <td>569.000000</td>\n",
              "      <td>569.000000</td>\n",
              "      <td>569.000000</td>\n",
              "    </tr>\n",
              "    <tr>\n",
              "      <th>mean</th>\n",
              "      <td>14.127292</td>\n",
              "      <td>19.289649</td>\n",
              "      <td>91.969033</td>\n",
              "      <td>654.889104</td>\n",
              "      <td>0.096360</td>\n",
              "      <td>0.104341</td>\n",
              "      <td>0.088799</td>\n",
              "      <td>0.048919</td>\n",
              "      <td>0.181162</td>\n",
              "      <td>0.062798</td>\n",
              "      <td>...</td>\n",
              "      <td>25.677223</td>\n",
              "      <td>107.261213</td>\n",
              "      <td>880.583128</td>\n",
              "      <td>0.132369</td>\n",
              "      <td>0.254265</td>\n",
              "      <td>0.272188</td>\n",
              "      <td>0.114606</td>\n",
              "      <td>0.290076</td>\n",
              "      <td>0.083946</td>\n",
              "      <td>0.627417</td>\n",
              "    </tr>\n",
              "    <tr>\n",
              "      <th>std</th>\n",
              "      <td>3.524049</td>\n",
              "      <td>4.301036</td>\n",
              "      <td>24.298981</td>\n",
              "      <td>351.914129</td>\n",
              "      <td>0.014064</td>\n",
              "      <td>0.052813</td>\n",
              "      <td>0.079720</td>\n",
              "      <td>0.038803</td>\n",
              "      <td>0.027414</td>\n",
              "      <td>0.007060</td>\n",
              "      <td>...</td>\n",
              "      <td>6.146258</td>\n",
              "      <td>33.602542</td>\n",
              "      <td>569.356993</td>\n",
              "      <td>0.022832</td>\n",
              "      <td>0.157336</td>\n",
              "      <td>0.208624</td>\n",
              "      <td>0.065732</td>\n",
              "      <td>0.061867</td>\n",
              "      <td>0.018061</td>\n",
              "      <td>0.483918</td>\n",
              "    </tr>\n",
              "    <tr>\n",
              "      <th>min</th>\n",
              "      <td>6.981000</td>\n",
              "      <td>9.710000</td>\n",
              "      <td>43.790000</td>\n",
              "      <td>143.500000</td>\n",
              "      <td>0.052630</td>\n",
              "      <td>0.019380</td>\n",
              "      <td>0.000000</td>\n",
              "      <td>0.000000</td>\n",
              "      <td>0.106000</td>\n",
              "      <td>0.049960</td>\n",
              "      <td>...</td>\n",
              "      <td>12.020000</td>\n",
              "      <td>50.410000</td>\n",
              "      <td>185.200000</td>\n",
              "      <td>0.071170</td>\n",
              "      <td>0.027290</td>\n",
              "      <td>0.000000</td>\n",
              "      <td>0.000000</td>\n",
              "      <td>0.156500</td>\n",
              "      <td>0.055040</td>\n",
              "      <td>0.000000</td>\n",
              "    </tr>\n",
              "    <tr>\n",
              "      <th>25%</th>\n",
              "      <td>11.700000</td>\n",
              "      <td>16.170000</td>\n",
              "      <td>75.170000</td>\n",
              "      <td>420.300000</td>\n",
              "      <td>0.086370</td>\n",
              "      <td>0.064920</td>\n",
              "      <td>0.029560</td>\n",
              "      <td>0.020310</td>\n",
              "      <td>0.161900</td>\n",
              "      <td>0.057700</td>\n",
              "      <td>...</td>\n",
              "      <td>21.080000</td>\n",
              "      <td>84.110000</td>\n",
              "      <td>515.300000</td>\n",
              "      <td>0.116600</td>\n",
              "      <td>0.147200</td>\n",
              "      <td>0.114500</td>\n",
              "      <td>0.064930</td>\n",
              "      <td>0.250400</td>\n",
              "      <td>0.071460</td>\n",
              "      <td>0.000000</td>\n",
              "    </tr>\n",
              "    <tr>\n",
              "      <th>50%</th>\n",
              "      <td>13.370000</td>\n",
              "      <td>18.840000</td>\n",
              "      <td>86.240000</td>\n",
              "      <td>551.100000</td>\n",
              "      <td>0.095870</td>\n",
              "      <td>0.092630</td>\n",
              "      <td>0.061540</td>\n",
              "      <td>0.033500</td>\n",
              "      <td>0.179200</td>\n",
              "      <td>0.061540</td>\n",
              "      <td>...</td>\n",
              "      <td>25.410000</td>\n",
              "      <td>97.660000</td>\n",
              "      <td>686.500000</td>\n",
              "      <td>0.131300</td>\n",
              "      <td>0.211900</td>\n",
              "      <td>0.226700</td>\n",
              "      <td>0.099930</td>\n",
              "      <td>0.282200</td>\n",
              "      <td>0.080040</td>\n",
              "      <td>1.000000</td>\n",
              "    </tr>\n",
              "    <tr>\n",
              "      <th>75%</th>\n",
              "      <td>15.780000</td>\n",
              "      <td>21.800000</td>\n",
              "      <td>104.100000</td>\n",
              "      <td>782.700000</td>\n",
              "      <td>0.105300</td>\n",
              "      <td>0.130400</td>\n",
              "      <td>0.130700</td>\n",
              "      <td>0.074000</td>\n",
              "      <td>0.195700</td>\n",
              "      <td>0.066120</td>\n",
              "      <td>...</td>\n",
              "      <td>29.720000</td>\n",
              "      <td>125.400000</td>\n",
              "      <td>1084.000000</td>\n",
              "      <td>0.146000</td>\n",
              "      <td>0.339100</td>\n",
              "      <td>0.382900</td>\n",
              "      <td>0.161400</td>\n",
              "      <td>0.317900</td>\n",
              "      <td>0.092080</td>\n",
              "      <td>1.000000</td>\n",
              "    </tr>\n",
              "    <tr>\n",
              "      <th>max</th>\n",
              "      <td>28.110000</td>\n",
              "      <td>39.280000</td>\n",
              "      <td>188.500000</td>\n",
              "      <td>2501.000000</td>\n",
              "      <td>0.163400</td>\n",
              "      <td>0.345400</td>\n",
              "      <td>0.426800</td>\n",
              "      <td>0.201200</td>\n",
              "      <td>0.304000</td>\n",
              "      <td>0.097440</td>\n",
              "      <td>...</td>\n",
              "      <td>49.540000</td>\n",
              "      <td>251.200000</td>\n",
              "      <td>4254.000000</td>\n",
              "      <td>0.222600</td>\n",
              "      <td>1.058000</td>\n",
              "      <td>1.252000</td>\n",
              "      <td>0.291000</td>\n",
              "      <td>0.663800</td>\n",
              "      <td>0.207500</td>\n",
              "      <td>1.000000</td>\n",
              "    </tr>\n",
              "  </tbody>\n",
              "</table>\n",
              "<p>8 rows × 31 columns</p>\n",
              "</div>\n",
              "    <div class=\"colab-df-buttons\">\n",
              "\n",
              "  <div class=\"colab-df-container\">\n",
              "    <button class=\"colab-df-convert\" onclick=\"convertToInteractive('df-eccfe885-0c97-4323-988f-80761caadc3d')\"\n",
              "            title=\"Convert this dataframe to an interactive table.\"\n",
              "            style=\"display:none;\">\n",
              "\n",
              "  <svg xmlns=\"http://www.w3.org/2000/svg\" height=\"24px\" viewBox=\"0 -960 960 960\">\n",
              "    <path d=\"M120-120v-720h720v720H120Zm60-500h600v-160H180v160Zm220 220h160v-160H400v160Zm0 220h160v-160H400v160ZM180-400h160v-160H180v160Zm440 0h160v-160H620v160ZM180-180h160v-160H180v160Zm440 0h160v-160H620v160Z\"/>\n",
              "  </svg>\n",
              "    </button>\n",
              "\n",
              "  <style>\n",
              "    .colab-df-container {\n",
              "      display:flex;\n",
              "      gap: 12px;\n",
              "    }\n",
              "\n",
              "    .colab-df-convert {\n",
              "      background-color: #E8F0FE;\n",
              "      border: none;\n",
              "      border-radius: 50%;\n",
              "      cursor: pointer;\n",
              "      display: none;\n",
              "      fill: #1967D2;\n",
              "      height: 32px;\n",
              "      padding: 0 0 0 0;\n",
              "      width: 32px;\n",
              "    }\n",
              "\n",
              "    .colab-df-convert:hover {\n",
              "      background-color: #E2EBFA;\n",
              "      box-shadow: 0px 1px 2px rgba(60, 64, 67, 0.3), 0px 1px 3px 1px rgba(60, 64, 67, 0.15);\n",
              "      fill: #174EA6;\n",
              "    }\n",
              "\n",
              "    .colab-df-buttons div {\n",
              "      margin-bottom: 4px;\n",
              "    }\n",
              "\n",
              "    [theme=dark] .colab-df-convert {\n",
              "      background-color: #3B4455;\n",
              "      fill: #D2E3FC;\n",
              "    }\n",
              "\n",
              "    [theme=dark] .colab-df-convert:hover {\n",
              "      background-color: #434B5C;\n",
              "      box-shadow: 0px 1px 3px 1px rgba(0, 0, 0, 0.15);\n",
              "      filter: drop-shadow(0px 1px 2px rgba(0, 0, 0, 0.3));\n",
              "      fill: #FFFFFF;\n",
              "    }\n",
              "  </style>\n",
              "\n",
              "    <script>\n",
              "      const buttonEl =\n",
              "        document.querySelector('#df-eccfe885-0c97-4323-988f-80761caadc3d button.colab-df-convert');\n",
              "      buttonEl.style.display =\n",
              "        google.colab.kernel.accessAllowed ? 'block' : 'none';\n",
              "\n",
              "      async function convertToInteractive(key) {\n",
              "        const element = document.querySelector('#df-eccfe885-0c97-4323-988f-80761caadc3d');\n",
              "        const dataTable =\n",
              "          await google.colab.kernel.invokeFunction('convertToInteractive',\n",
              "                                                    [key], {});\n",
              "        if (!dataTable) return;\n",
              "\n",
              "        const docLinkHtml = 'Like what you see? Visit the ' +\n",
              "          '<a target=\"_blank\" href=https://colab.research.google.com/notebooks/data_table.ipynb>data table notebook</a>'\n",
              "          + ' to learn more about interactive tables.';\n",
              "        element.innerHTML = '';\n",
              "        dataTable['output_type'] = 'display_data';\n",
              "        await google.colab.output.renderOutput(dataTable, element);\n",
              "        const docLink = document.createElement('div');\n",
              "        docLink.innerHTML = docLinkHtml;\n",
              "        element.appendChild(docLink);\n",
              "      }\n",
              "    </script>\n",
              "  </div>\n",
              "\n",
              "\n",
              "<div id=\"df-8363542d-8af0-4790-8f04-a0a0d39a8ef7\">\n",
              "  <button class=\"colab-df-quickchart\" onclick=\"quickchart('df-8363542d-8af0-4790-8f04-a0a0d39a8ef7')\"\n",
              "            title=\"Suggest charts.\"\n",
              "            style=\"display:none;\">\n",
              "\n",
              "<svg xmlns=\"http://www.w3.org/2000/svg\" height=\"24px\"viewBox=\"0 0 24 24\"\n",
              "     width=\"24px\">\n",
              "    <g>\n",
              "        <path d=\"M19 3H5c-1.1 0-2 .9-2 2v14c0 1.1.9 2 2 2h14c1.1 0 2-.9 2-2V5c0-1.1-.9-2-2-2zM9 17H7v-7h2v7zm4 0h-2V7h2v10zm4 0h-2v-4h2v4z\"/>\n",
              "    </g>\n",
              "</svg>\n",
              "  </button>\n",
              "\n",
              "<style>\n",
              "  .colab-df-quickchart {\n",
              "      --bg-color: #E8F0FE;\n",
              "      --fill-color: #1967D2;\n",
              "      --hover-bg-color: #E2EBFA;\n",
              "      --hover-fill-color: #174EA6;\n",
              "      --disabled-fill-color: #AAA;\n",
              "      --disabled-bg-color: #DDD;\n",
              "  }\n",
              "\n",
              "  [theme=dark] .colab-df-quickchart {\n",
              "      --bg-color: #3B4455;\n",
              "      --fill-color: #D2E3FC;\n",
              "      --hover-bg-color: #434B5C;\n",
              "      --hover-fill-color: #FFFFFF;\n",
              "      --disabled-bg-color: #3B4455;\n",
              "      --disabled-fill-color: #666;\n",
              "  }\n",
              "\n",
              "  .colab-df-quickchart {\n",
              "    background-color: var(--bg-color);\n",
              "    border: none;\n",
              "    border-radius: 50%;\n",
              "    cursor: pointer;\n",
              "    display: none;\n",
              "    fill: var(--fill-color);\n",
              "    height: 32px;\n",
              "    padding: 0;\n",
              "    width: 32px;\n",
              "  }\n",
              "\n",
              "  .colab-df-quickchart:hover {\n",
              "    background-color: var(--hover-bg-color);\n",
              "    box-shadow: 0 1px 2px rgba(60, 64, 67, 0.3), 0 1px 3px 1px rgba(60, 64, 67, 0.15);\n",
              "    fill: var(--button-hover-fill-color);\n",
              "  }\n",
              "\n",
              "  .colab-df-quickchart-complete:disabled,\n",
              "  .colab-df-quickchart-complete:disabled:hover {\n",
              "    background-color: var(--disabled-bg-color);\n",
              "    fill: var(--disabled-fill-color);\n",
              "    box-shadow: none;\n",
              "  }\n",
              "\n",
              "  .colab-df-spinner {\n",
              "    border: 2px solid var(--fill-color);\n",
              "    border-color: transparent;\n",
              "    border-bottom-color: var(--fill-color);\n",
              "    animation:\n",
              "      spin 1s steps(1) infinite;\n",
              "  }\n",
              "\n",
              "  @keyframes spin {\n",
              "    0% {\n",
              "      border-color: transparent;\n",
              "      border-bottom-color: var(--fill-color);\n",
              "      border-left-color: var(--fill-color);\n",
              "    }\n",
              "    20% {\n",
              "      border-color: transparent;\n",
              "      border-left-color: var(--fill-color);\n",
              "      border-top-color: var(--fill-color);\n",
              "    }\n",
              "    30% {\n",
              "      border-color: transparent;\n",
              "      border-left-color: var(--fill-color);\n",
              "      border-top-color: var(--fill-color);\n",
              "      border-right-color: var(--fill-color);\n",
              "    }\n",
              "    40% {\n",
              "      border-color: transparent;\n",
              "      border-right-color: var(--fill-color);\n",
              "      border-top-color: var(--fill-color);\n",
              "    }\n",
              "    60% {\n",
              "      border-color: transparent;\n",
              "      border-right-color: var(--fill-color);\n",
              "    }\n",
              "    80% {\n",
              "      border-color: transparent;\n",
              "      border-right-color: var(--fill-color);\n",
              "      border-bottom-color: var(--fill-color);\n",
              "    }\n",
              "    90% {\n",
              "      border-color: transparent;\n",
              "      border-bottom-color: var(--fill-color);\n",
              "    }\n",
              "  }\n",
              "</style>\n",
              "\n",
              "  <script>\n",
              "    async function quickchart(key) {\n",
              "      const quickchartButtonEl =\n",
              "        document.querySelector('#' + key + ' button');\n",
              "      quickchartButtonEl.disabled = true;  // To prevent multiple clicks.\n",
              "      quickchartButtonEl.classList.add('colab-df-spinner');\n",
              "      try {\n",
              "        const charts = await google.colab.kernel.invokeFunction(\n",
              "            'suggestCharts', [key], {});\n",
              "      } catch (error) {\n",
              "        console.error('Error during call to suggestCharts:', error);\n",
              "      }\n",
              "      quickchartButtonEl.classList.remove('colab-df-spinner');\n",
              "      quickchartButtonEl.classList.add('colab-df-quickchart-complete');\n",
              "    }\n",
              "    (() => {\n",
              "      let quickchartButtonEl =\n",
              "        document.querySelector('#df-8363542d-8af0-4790-8f04-a0a0d39a8ef7 button');\n",
              "      quickchartButtonEl.style.display =\n",
              "        google.colab.kernel.accessAllowed ? 'block' : 'none';\n",
              "    })();\n",
              "  </script>\n",
              "</div>\n",
              "    </div>\n",
              "  </div>\n"
            ]
          },
          "metadata": {},
          "execution_count": 13
        }
      ]
    },
    {
      "cell_type": "markdown",
      "source": [
        "\n",
        "\n",
        "1.   df.describe(): Esto es una llamada al método describe() aplicado al DataFrame df. El método describe() en Pandas calcula estadísticas descriptivas para todas las columnas numéricas en el DataFrame, como la media, la desviación estándar, el valor mínimo, el percentil 25%, la mediana (percentil 50%), el percentil 75% y el valor máximo. Estas estadísticas son útiles para obtener una visión general de la distribución de los datos en las columnas numéricas.\n",
        "2.   estadisticas_descriptivas = ...: El resultado de df.describe() se asigna a la variable estadisticas_descriptivas. Esto significa que el DataFrame resultante de las estadísticas descriptivas se almacena en la variable estadisticas_descriptivas y puede ser utilizado más adelante en el código.\n",
        "\n"
      ],
      "metadata": {
        "id": "-SxPXIHqhp2v"
      }
    },
    {
      "cell_type": "markdown",
      "source": [
        "###**Visualización de la distribución de clases**"
      ],
      "metadata": {
        "id": "AAVRvRdPiK4d"
      }
    },
    {
      "cell_type": "markdown",
      "source": [
        "Este código carga el conjunto de datos de cáncer de mama, calcula la distribución de las clases (maligno y benigno) y crea un gráfico de pastel para visualizar la proporción de muestras en cada clase. Esto es útil para comprender la distribución de clases en el conjunto de datos y es una parte importante del análisis exploratorio de datos."
      ],
      "metadata": {
        "id": "QgrEP48sjUAB"
      }
    },
    {
      "cell_type": "code",
      "source": [
        "# Obtener las etiquetas y contar la cantidad de muestras de cada clase\n",
        "labels = data.target_names\n",
        "counts = [sum(data.target == i) for i in range(len(labels))]\n",
        "\n",
        "# Crear el gráfico de torta\n",
        "plt.figure(figsize=(6, 6))\n",
        "plt.pie(counts, labels=[\"Maligno\",\"Benigno\"], autopct='%1.1f%%', startangle=90)\n",
        "\n",
        "# Configurar el título\n",
        "plt.title('Distribución de las clases en el conjunto de datos de cáncer de mama')\n",
        "\n",
        "# Mostrar el gráfico\n",
        "plt.show()"
      ],
      "metadata": {
        "colab": {
          "base_uri": "https://localhost:8080/",
          "height": 52
        },
        "id": "G0HP5T-4iN9V",
        "outputId": "c080fc03-4ba0-40ad-806f-7f0ba5c63f9b"
      },
      "execution_count": 14,
      "outputs": [
        {
          "output_type": "display_data",
          "data": {
            "text/plain": [
              "<Figure size 600x600 with 1 Axes>"
            ],
            "image/png": "[encoded data removed]"
          },
          "metadata": {}
        }
      ]
    },
    {
      "cell_type": "markdown",
      "source": [
        "\n",
        "\n",
        "1.   labels = data.target_names: Obtiene las etiquetas de las clases del conjunto de datos y las almacena en la variable labels. En este caso, las etiquetas son \"maligno\" (cáncer maligno) y \"benigno\" (cáncer benigno).\n",
        "2.   counts = [sum(data.target == i) for i in range(len(labels))]: Calcula la cantidad de muestras de cada clase contando cuántas instancias tienen etiquetas iguales a i (0 para \"maligno\" y 1 para \"benigno\") y almacena los resultados en la lista counts.\n",
        "3.   plt.figure(figsize=(6, 6)): Crea una figura de tamaño 6x6 pulgadas para el gráfico de torta.\n",
        "4.   plt.pie(counts, labels=[\"Maligno\", \"Benigno\"], autopct='%1.1f%%', startangle=90): Crea el gráfico de torta con la cantidad de muestras en cada clase. counts contiene los valores de cada clase, labels proporciona las etiquetas para las secciones del pastel (\"Maligno\" y \"Benigno\"), autopct muestra los porcentajes en cada sección y startangle ajusta el ángulo de inicio del gráfico de torta.\n",
        "5.   plt.title('Distribución de las clases en el conjunto de datos de cáncer de mama'): Configura el título del gráfico de torta.\n",
        "6.   plt.show(): Muestra el gráfico de torta.\n",
        "\n"
      ],
      "metadata": {
        "id": "1J22cL8nkEol"
      }
    },
    {
      "cell_type": "markdown",
      "source": [
        "###**Matriz de correlación**"
      ],
      "metadata": {
        "id": "YoPB3_afk3_s"
      }
    },
    {
      "cell_type": "markdown",
      "source": [
        "Esta línea de código crea un mapa de calor que representa visualmente la matriz de correlación entre las características del conjunto de datos. El mapa de calor es útil para identificar patrones de correlación entre las variables, lo que puede ayudar en la selección de características o en la comprensión de cómo las variables se relacionan entre sí en el contexto del análisis de datos."
      ],
      "metadata": {
        "id": "jn4PzVrvlRNB"
      }
    },
    {
      "cell_type": "code",
      "source": [
        "# Matriz de correlación\n",
        "correlation_matrix = df.corr()\n",
        "plt.figure(figsize=(10, 8))\n",
        "sns.heatmap(correlation_matrix, annot=False, cmap='coolwarm')\n",
        "plt.title('Matriz de Correlación')\n",
        "plt.show()"
      ],
      "metadata": {
        "colab": {
          "base_uri": "https://localhost:8080/",
          "height": 52
        },
        "id": "ws_iA1xok66u",
        "outputId": "d31cdbe7-cc7e-46a8-c4a7-54c237695c9c"
      },
      "execution_count": 15,
      "outputs": [
        {
          "output_type": "display_data",
          "data": {
            "text/plain": [
              "<Figure size 1000x800 with 2 Axes>"
            ],
            "image/png": "[encoded data removed]"
          },
          "metadata": {}
        }
      ]
    },
    {
      "cell_type": "markdown",
      "source": [
        "1.   correlation_matrix = df.corr(): Aquí, se calcula la matriz de correlación utilizando el método corr() aplicado al DataFrame df. La matriz de correlación es una tabla que muestra la correlación entre pares de variables en el conjunto de datos. Cada entrada de la matriz representa la correlación entre dos características. Los valores pueden variar entre -1 y 1, donde -1 indica una correlación negativa perfecta, 1 indica una correlación positiva perfecta y 0 indica que las características no están correlacionadas.\n",
        "2.   plt.figure(figsize=(10, 8)): Esto crea una nueva figura para el gráfico de mapa de calor con un tamaño específico de 10 pulgadas de ancho y 8 pulgadas de alto.\n",
        "3.   sns.heatmap(correlation_matrix, annot=False, cmap='coolwarm'): Esta parte genera el mapa de calor. Se utiliza la función heatmap() de Seaborn (sns) para ello. Los parámetros utilizados son:\n",
        "- correlation_matrix: La matriz de correlación que se va a visualizar.\n",
        "- annot=False: No se muestran los valores numéricos en cada celda del mapa de calor.\n",
        "- cmap='coolwarm': Se utiliza una paleta de colores llamada 'coolwarm' para representar los valores de correlación. Los colores más fríos (azules) representan correlaciones negativas, mientras que los colores más cálidos (rojos) representan correlaciones positivas.\n",
        "4.   plt.title('Matriz de Correlación'): Configura el título del mapa de calor como 'Matriz de Correlación'.\n",
        "5.   plt.show(): Muestra el mapa de calor en la figura previamente creada.\n",
        "\n"
      ],
      "metadata": {
        "id": "PntT1B07lS-Q"
      }
    },
    {
      "cell_type": "markdown",
      "source": [
        "###**Gráficos de dispersión de cada caracteristica**"
      ],
      "metadata": {
        "id": "WisgzrremPS3"
      }
    },
    {
      "cell_type": "markdown",
      "source": [
        "Esta línea de código crea una matriz de gráficos de dispersión que muestra la relación entre las características seleccionadas en función de la variable objetivo ('target'). Los puntos en los gráficos de dispersión se colorearán según si el tumor es benigno o maligno, lo que puede ayudar a visualizar patrones y relaciones entre las características en función de la clasificación de los tumores."
      ],
      "metadata": {
        "id": "oGqBu31amPS6"
      }
    },
    {
      "cell_type": "code",
      "source": [
        "# Gráficos de dispersión para algunas características\n",
        "sns.pairplot(df[['mean radius', 'mean texture', 'mean perimeter', 'mean area', 'mean smoothness', 'mean compactness', 'mean concavity',\n",
        "       'mean concave points', 'mean symmetry', 'mean fractal dimension','target']],\n",
        "             hue='target', plot_kws={'alpha': 0.6})\n",
        "plt.show()"
      ],
      "metadata": {
        "id": "Q9S2OVzwotDn"
      },
      "execution_count": null,
      "outputs": []
    },
    {
      "cell_type": "markdown",
      "source": [
        "1.   sns.pairplot(...): Se utiliza la función pairplot de Seaborn (sns) para crear gráficos de dispersión entre las características especificadas. Esta función genera una matriz de gráficos de dispersión en la que cada característica se representa en un eje y se comparan entre sí en diferentes combinaciones.\n",
        "2. df[['mean radius', 'mean texture', 'mean perimeter', 'mean area', 'mean smoothness', 'mean compactness', 'mean concavity', 'mean concave points', 'mean symmetry', 'mean fractal dimension', 'target']]: Aquí, se selecciona un subconjunto de características del DataFrame df que se utilizarán para crear los gráficos de dispersión. Las características seleccionadas son 'mean radius', 'mean texture', 'mean perimeter', 'mean area', 'mean smoothness', 'mean compactness', 'mean concavity', 'mean concave points', 'mean symmetry', 'mean fractal dimension' y 'target'. Estas características están relacionadas con las medidas de los tumores mamarios y la variable objetivo 'target', que indica si un tumor es benigno o maligno.\n",
        "- hue='target': El parámetro hue se establece en 'target'. Esto significa que las diferencias en la variable objetivo se destacarán en los gráficos de dispersión utilizando colores diferentes. En este caso, los puntos se colorearán según si el tumor es benigno o maligno.\n",
        "- plot_kws={'alpha': 0.6}: Se establece el parámetro alpha en 0.6 para que los puntos en los gráficos de dispersión sean ligeramente transparentes, lo que facilita la visualización de superposiciones de puntos.\n",
        "3.  plt.show(): Muestra los gráficos de dispersión generados por pairplot en la salida.\n",
        "\n"
      ],
      "metadata": {
        "id": "FIy-Uzmdpp4X"
      }
    },
    {
      "cell_type": "markdown",
      "source": [
        "##**Aprendizaje de maquinas**"
      ],
      "metadata": {
        "id": "uGYgi-TJXWXd"
      }
    },
    {
      "cell_type": "markdown",
      "source": [
        "###**Preprocesamiento de datos**"
      ],
      "metadata": {
        "id": "E6Xc7LVNNJI5"
      }
    },
    {
      "cell_type": "markdown",
      "source": [
        "#####**Cargar la base de datos de cáncer de mama**"
      ],
      "metadata": {
        "id": "IIwUwBbjq8LK"
      }
    },
    {
      "cell_type": "markdown",
      "source": [
        "La línea de código básicamente toma las características y las etiquetas de clase del conjunto de datos de cáncer de mama y las asigna a las variables \"X\" y \"y\", respectivamente. Esto es común en tareas de aprendizaje automático, donde X se utiliza para representar las características que se utilizarán para entrenar un modelo, y y representa las etiquetas de clase que el modelo debe predecir o clasificar."
      ],
      "metadata": {
        "id": "eo1mWw1ArCLd"
      }
    },
    {
      "cell_type": "code",
      "source": [
        "# Cargar la base de datos de cáncer de mama\n",
        "X, y = data.data, data.target"
      ],
      "metadata": {
        "id": "aCIOmmwFrByv"
      },
      "execution_count": null,
      "outputs": []
    },
    {
      "cell_type": "markdown",
      "source": [
        "1.  X, y = data.data, data.target: Esta línea está utilizando desempaquetamiento para asignar los datos de características (variables independientes) a la variable X y las etiquetas de clase (variable objetivo) a la variable y.\n",
        "\n",
        "data.data: data es un objeto que representa el conjunto de datos de cáncer de mama cargado previamente con load_breast_cancer(). data.data contiene las características o atributos de cada muestra en el conjunto de datos. Cada fila de data.data representa una muestra (un tumor) y cada columna representa una característica específica (como el tamaño del tumor, textura, suavidad, etc.).\n",
        "\n",
        "data.target: data.target contiene las etiquetas de clase asociadas con cada muestra en el conjunto de datos. En este caso, las etiquetas indican si el tumor es \"maligno\" (1) o \"benigno\" (0).\n",
        "\n",
        "La línea de código básicamente toma las características y las etiquetas de clase del conjunto de datos de cáncer de mama y las asigna a las variables X y y, respectivamente. Esto es común en tareas de aprendizaje automático, donde X se utiliza para representar las características que se utilizarán para entrenar un modelo, y y representa las etiquetas de clase que el modelo debe predecir o clasificar.\n",
        "\n",
        "\n",
        "\n",
        "\n",
        "\n",
        "\n"
      ],
      "metadata": {
        "id": "YMgj0axYrF6-"
      }
    },
    {
      "cell_type": "markdown",
      "source": [
        "#####**Reemplazo los valores faltantes (NaN)**"
      ],
      "metadata": {
        "id": "XQKf9crQMt-U"
      }
    },
    {
      "cell_type": "markdown",
      "source": [
        "La imputación de valores faltantes es una práctica común en el preprocesamiento de datos antes de entrenar modelos de aprendizaje automático, ya que ayuda a evitar problemas causados por la presencia de datos faltantes. La elección de la mediana como estrategia de imputación es una opción típica cuando los datos tienen distribuciones sesgadas y se desea una imputación robusta a valores atípicos.\n",
        "Esta línea de código se utiliza para reemplazar los valores faltantes (NaN) en el conjunto de datos X por la mediana de cada columna."
      ],
      "metadata": {
        "id": "MeaFTy5GM02x"
      }
    },
    {
      "cell_type": "code",
      "source": [
        "# Reemplazar valores NaN por la mediana de la columna\n",
        "imputer = SimpleImputer(strategy='median')\n",
        "X = imputer.fit_transform(X)"
      ],
      "metadata": {
        "id": "FuKvrlUtM1Wj"
      },
      "execution_count": null,
      "outputs": []
    },
    {
      "cell_type": "markdown",
      "source": [
        "\n",
        "\n",
        "1.   imputer = SimpleImputer(strategy='median'): Aquí, se crea una instancia del objeto SimpleImputer de scikit-learn y se configura con una estrategia de imputación de 'median' (mediana). SimpleImputer es una clase de scikit-learn que se utiliza para manejar valores faltantes en los datos. La estrategia de 'median' significa que se reemplazarán los valores faltantes por la mediana de cada columna.\n",
        "2.   X = imputer.fit_transform(X): Esta parte realiza la imputación de valores faltantes en las características X utilizando el objeto SimpleImputer configurado previamente. La función fit_transform ajusta el imputador a los datos y luego transforma X, reemplazando los valores faltantes por las medianas respectivas de cada columna. Después de esta línea de código, X contendrá los datos con los valores faltantes reemplazados por las medianas correspondientes.\n",
        "\n",
        "\n",
        "\n"
      ],
      "metadata": {
        "id": "5A3oAPYJM_28"
      }
    },
    {
      "cell_type": "markdown",
      "source": [
        "#####**Estandarización de los datos**"
      ],
      "metadata": {
        "id": "3SEvvqd-Ndv2"
      }
    },
    {
      "cell_type": "markdown",
      "source": [
        "Esta línea de código se utiliza para estandarizar los datos en el conjunto de características X. La estandarización es un proceso común en el preprocesamiento de datos que transforma las características de manera que tengan una media de cero y una desviación estándar de uno. A continuación, se explica cada parte de la línea de código:"
      ],
      "metadata": {
        "id": "TOrLr_kaOiQh"
      }
    },
    {
      "cell_type": "code",
      "source": [
        "# Estandarizar los datos\n",
        "scaler = StandardScaler()\n",
        "X = scaler.fit_transform(X)"
      ],
      "metadata": {
        "id": "QaIZ3Ym0N_Mj"
      },
      "execution_count": null,
      "outputs": []
    },
    {
      "cell_type": "markdown",
      "source": [
        "1.   scaler = StandardScaler(): Aquí, se crea una instancia del objeto StandardScaler de scikit-learn. El StandardScaler es una técnica de preprocesamiento que se utiliza para escalar (normalizar) las características de manera que tengan una distribución con media cero y desviación estándar uno. Esto ayuda a garantizar que las características tengan un rango similar y evita que algunas características dominen otras durante el proceso de modelado.\n",
        "\n",
        "2.   X = scaler.fit_transform(X): Esta parte aplica la estandarización a las características X utilizando el objeto StandardScaler previamente creado. La función fit_transform ajusta (calcula la media y la desviación estándar) el escalador a los datos y, a continuación, transforma X, escalando cada columna de características de manera que cumpla con la propiedad de media cero y desviación estándar uno.\n",
        "\n",
        "\n"
      ],
      "metadata": {
        "id": "TJrpZPMfOppg"
      }
    },
    {
      "cell_type": "markdown",
      "source": [
        "#####**Dividir los datos en conjunto de entrenamiento y prueba**"
      ],
      "metadata": {
        "id": "OOpwnvuxO9qA"
      }
    },
    {
      "cell_type": "markdown",
      "source": [
        "Esta línea de código divide los datos en un conjunto de entrenamiento (X_train y y_train) y un conjunto de prueba (X_test y y_test) de acuerdo con las proporciones especificadas. El conjunto de entrenamiento se utiliza para entrenar el modelo, y el conjunto de prueba se utiliza para evaluar qué tan bien el modelo generaliza a datos no vistos."
      ],
      "metadata": {
        "id": "8Q5JQ3tQO9qC"
      }
    },
    {
      "cell_type": "code",
      "source": [
        "# Dividir los datos en conjunto de entrenamiento y prueba\n",
        "X_train, X_test, y_train, y_test = train_test_split(X, y, test_size=0.2, random_state=42)"
      ],
      "metadata": {
        "id": "wKRtOt8oO7IT"
      },
      "execution_count": null,
      "outputs": []
    },
    {
      "cell_type": "markdown",
      "source": [
        "\n",
        "1.   X_train y X_test: Estas dos variables contendrán las muestras (datos de características) divididas en el conjunto de entrenamiento y el conjunto de prueba, respectivamente. El conjunto de entrenamiento se utilizará para entrenar el modelo, mientras que el conjunto de prueba se utilizará para evaluar el rendimiento del modelo.\n",
        "2.  y_train y y_test: Estas dos variables contendrán las etiquetas de clase correspondientes a las muestras en X_train y X_test, respectivamente. Las etiquetas son los valores que el modelo intentará predecir o clasificar.\n",
        "2.  train_test_split(X, y, test_size=0.2, random_state=42): Esta función divide los datos en conjuntos de entrenamiento y prueba. Aquí está qué significan los parámetros:\n",
        "\n",
        "- X: El conjunto de datos de características que se desea dividir.\n",
        "- y: El conjunto de etiquetas de clase asociadas con las muestras en X.\n",
        "- test_size=0.2: Esto especifica que el 20% de los datos se reservarán para el conjunto de prueba, mientras que el 80% se utilizará para el conjunto de entrenamiento.\n",
        "- random_state=42: Esto establece una semilla para la generación de números aleatorios. La semilla asegura que la división de datos sea reproducible, es decir, si se utiliza la misma semilla en diferentes ejecuciones, obtendrás la misma división de datos. Esto es útil para garantizar que los resultados sean coherentes en diferentes ejecuciones."
      ],
      "metadata": {
        "id": "j-xMRmptO--f"
      }
    },
    {
      "cell_type": "markdown",
      "source": [
        "#####**Sobremuestreo**"
      ],
      "metadata": {
        "id": "NWY00VLVNa4s"
      }
    },
    {
      "cell_type": "markdown",
      "source": [
        "Esta línea de código se utiliza para realizar el sobremuestreo (oversampling) de las muestras en el conjunto de entrenamiento con el objetivo de equilibrar las clases en un problema de clasificación desbalanceado."
      ],
      "metadata": {
        "id": "oDnQEDTeNa4v"
      }
    },
    {
      "cell_type": "code",
      "source": [
        "# Crear el objeto de sobremuestreo\n",
        "ros = RandomOverSampler(random_state=0)\n",
        "X_train, y_train = ros.fit_resample(X_train, y_train)"
      ],
      "metadata": {
        "id": "VskVwmdUQcNc"
      },
      "execution_count": null,
      "outputs": []
    },
    {
      "cell_type": "markdown",
      "source": [
        "1.   ros = RandomOverSampler(random_state=0): Se crea una instancia del objeto RandomOverSampler de la biblioteca imbalanced-learn (imblearn), que es una técnica de sobremuestreo aleatorio. Esta técnica aumenta la cantidad de muestras de la clase minoritaria al crear duplicados de muestras existentes o generando nuevas muestras sintéticas de manera aleatoria.\n",
        "\n",
        "2.   X_train, y_train = ros.fit_resample(X_train, y_train): Esta parte realiza el sobremuestreo de las muestras en el conjunto de entrenamiento (X_train y y_train) utilizando el objeto RandomOverSampler. El método fit_resample ajusta el sobremuestreador a los datos de entrenamiento y realiza el sobremuestreo, lo que significa que genera más muestras de la clase minoritaria (en este caso, las muestras correspondientes a tumores malignos) para equilibrar las clases.\n",
        "\n",
        "Después de ejecutar esta línea de código, el conjunto de entrenamiento X_train y las etiquetas y_train contendrán un número igual de muestras para cada clase, lo que ayuda a evitar el desequilibrio de clases y mejora el rendimiento de los modelos de clasificación en casos en los que una de las clases es significativamente más pequeña que la otra. Esto es especialmente útil en problemas de clasificación desbalanceados donde se necesita dar un tratamiento igualitario a ambas clases."
      ],
      "metadata": {
        "id": "E4bypi9EN4cW"
      }
    },
    {
      "cell_type": "markdown",
      "source": [
        "###**Selección de características**"
      ],
      "metadata": {
        "id": "oaVzh519VU2Q"
      }
    },
    {
      "cell_type": "markdown",
      "source": [
        "Esta línea de código se utiliza para realizar la selección de características en el conjunto de datos utilizando la prueba estadística ANOVA (Análisis de varianza) y el método SelectKBest para mantener solo las 10 mejores características."
      ],
      "metadata": {
        "id": "gFfJq9JNU2KT"
      }
    },
    {
      "cell_type": "code",
      "source": [
        "# Selección de características\n",
        "select_k_best_f_classif = SelectKBest(score_func=f_classif, k=10)\n",
        "X_train_f_classif = select_k_best_f_classif.fit_transform(X_train, y_train)\n",
        "X_test_f_classif = select_k_best_f_classif.transform(X_test)"
      ],
      "metadata": {
        "id": "XWoicJtxUkVL"
      },
      "execution_count": null,
      "outputs": []
    },
    {
      "cell_type": "markdown",
      "source": [
        "1.   select_k_best_f_classif = SelectKBest(score_func=f_classif, k=10): Aquí, se crea una instancia del objeto SelectKBest de scikit-learn, que es una técnica de selección de características. Se configura para utilizar la prueba estadística F de ANOVA (f_classif) como función de puntuación y para seleccionar las 10 mejores características (k=10).\n",
        "2.   X_train_f_classif = select_k_best_f_classif.fit_transform(X_train, y_train): Esta parte aplica la selección de características al conjunto de entrenamiento (X_train y y_train) utilizando el objeto select_k_best_f_classif. La función fit_transform ajusta el selector de características a los datos de entrenamiento y transforma X_train, conservando solo las 10 características más importantes según la puntuación de ANOVA. El resultado se almacena en la variable X_train_f_classif.\n",
        "3.   X_train_f_classif = select_k_best_f_classif.fit_transform(X_train, y_train): Esta parte aplica la selección de características al conjunto de entrenamiento (X_train y y_train) utilizando el objeto select_k_best_f_classif. La función fit_transform ajusta el selector de características a los datos de entrenamiento y transforma X_train, conservando solo las 10 características más importantes según la puntuación de ANOVA. El resultado se almacena en la variable X_train_f_classif.\n",
        "4.   X_test_f_classif = select_k_best_f_classif.transform(X_test): Aquí, se aplica el mismo selector de características al conjunto de prueba (X_test) utilizando la función transform. Esto asegura que las mismas 10 características seleccionadas en el conjunto de entrenamiento se utilicen en el conjunto de prueba. El resultado se almacena en la variable X_test_f_classif.\n",
        "\n",
        "\n",
        "\n",
        "\n",
        "\n",
        "\n"
      ],
      "metadata": {
        "id": "_Bn-CGNRU4kY"
      }
    },
    {
      "cell_type": "markdown",
      "source": [
        "###**Clasificadores**"
      ],
      "metadata": {
        "id": "fB-7_9yWOXJ4"
      }
    },
    {
      "cell_type": "markdown",
      "source": [
        "####**Creación de Clasificadores**"
      ],
      "metadata": {
        "id": "8g2igQjfPM3F"
      }
    },
    {
      "cell_type": "markdown",
      "source": [
        "Se crea un diccionario llamado Clasificadores que contiene cuatro clasificadores diferentes y sus instancias:"
      ],
      "metadata": {
        "id": "5tCekub4OXJ6"
      }
    },
    {
      "cell_type": "code",
      "source": [
        "# Crear clasificadores\n",
        "Clasificadores = {\n",
        "    'Árbol de Decisión': DecisionTreeClassifier(),\n",
        "    \"Máquinas de Vectores de Soporte\": SVC(probability=True),\n",
        "    \"Perceptrón Multicapa\": MLPClassifier(),\n",
        "    \"Vecinos más Cercanos\": KNeighborsClassifier()}"
      ],
      "metadata": {
        "id": "-qyy0uCzOec7"
      },
      "execution_count": null,
      "outputs": []
    },
    {
      "cell_type": "markdown",
      "source": [
        "- \"Árbol de Decisión\" (DecisionTreeClassifier()): Un clasificador basado en árboles de decisión.\n",
        "- \"Máquinas de Vectores de Soporte\" (SVC(probability=True)): Un clasificador de máquinas de vectores de soporte (SVM) que se configura para calcular probabilidades (probability=True).\n",
        "- \"Perceptrón Multicapa\" (MLPClassifier()): Un clasificador basado en redes neuronales de perceptrón multicapa.\n",
        "- \"Vecinos más Cercanos\" (KNeighborsClassifier()): Un clasificador basado en el algoritmo de vecinos más cercanos (K-Nearest Neighbors)."
      ],
      "metadata": {
        "id": "YwieCtEpPVUk"
      }
    },
    {
      "cell_type": "markdown",
      "source": [
        "####**Definición de Hiperparámetros**"
      ],
      "metadata": {
        "id": "-HjOb4s_PcfX"
      }
    },
    {
      "cell_type": "markdown",
      "source": [
        "Se crea un diccionario llamado hiperparámetros que contiene las configuraciones de hiperparámetros que se utilizarán para ajustar cada clasificador."
      ],
      "metadata": {
        "id": "GZR-_fR_PjgV"
      }
    },
    {
      "cell_type": "code",
      "source": [
        "# Define los hiperparamtros de los clasificadores\n",
        "hiperparametros = {\n",
        "    'Árbol de Decisión': {\n",
        "        'max_depth': [None, 5, 10],\n",
        "        'min_samples_split': [2, 5, 10],\n",
        "        'min_samples_leaf': [1, 2, 3]},\n",
        "    \"Máquinas de Vectores de Soporte\": {\n",
        "        'C': [0.1, 1, 10]},\n",
        "    \"Perceptrón Multicapa\": {\n",
        "        'hidden_layer_sizes': [(100,), (50, 50), (30, 20, 10)],\n",
        "        'alpha': [0.0001, 0.001, 0.01]},\n",
        "    \"Vecinos más Cercanos\": {\n",
        "        'n_neighbors': [3, 5, 7],\n",
        "        'weights': ['uniform', 'distance']}}"
      ],
      "metadata": {
        "id": "qfiC9O9_O5W-"
      },
      "execution_count": null,
      "outputs": []
    },
    {
      "cell_type": "markdown",
      "source": [
        "- Para el \"Árbol de Decisión\", se definen los hiperparámetros max_depth (profundidad máxima del árbol), min_samples_split (número mínimo de muestras requeridas para dividir un nodo) y min_samples_leaf (número mínimo de muestras requeridas en una hoja).\n",
        "- Para las \"Máquinas de Vectores de Soporte\", se define el hiperparámetro C (parámetro de regularización).\n",
        "- Para el \"Perceptrón Multicapa\", se definen los hiperparámetros hidden_layer_sizes (tamaños de las capas ocultas) y alpha (parámetro de regularización).\n",
        "- Para los \"Vecinos más Cercanos\", se definen los hiperparámetros n_neighbors (número de vecinos) y weights (pesos de los vecinos)."
      ],
      "metadata": {
        "id": "cXk1avzfPnrI"
      }
    },
    {
      "cell_type": "markdown",
      "source": [
        "En resumen, este bloque de código establece una colección de clasificadores y las configuraciones de hiperparámetros que se utilizarán para ajustar estos clasificadores. Esto es útil para realizar una búsqueda de hiperparámetros y comparar el rendimiento de diferentes algoritmos de clasificación en un problema de aprendizaje automático."
      ],
      "metadata": {
        "id": "vcPYU2ypO5xq"
      }
    },
    {
      "cell_type": "markdown",
      "source": [
        "###**Ajustar (entrenar) y Evaluacion de los modelos de clasificación**"
      ],
      "metadata": {
        "id": "FN4oWSIuVQ7u"
      }
    },
    {
      "cell_type": "markdown",
      "source": [
        "Esta línea de código establece el título del experimento y luego inicia una serie de operaciones para evaluar varios clasificadores en un conjunto de datos de cáncer de mama y recopilar métricas de rendimiento como el área bajo la curva ROC y las matrices de confusión. Los resultados se almacenan en estructuras de datos para su posterior análisis y visualización.\n",
        "\n"
      ],
      "metadata": {
        "id": "abQwbKJQij1u"
      }
    },
    {
      "cell_type": "markdown",
      "source": [
        "####**Configuracion de la validación cruzada**"
      ],
      "metadata": {
        "id": "ZWTT8UnXP_6Z"
      }
    },
    {
      "cell_type": "markdown",
      "source": [
        "Esta línea de código se utiliza para configurar la validación cruzada estratificada en el contexto del aprendizaje automático. La validación cruzada es una técnica que se utiliza para evaluar el rendimiento de un modelo de manera más confiable al dividir el conjunto de datos en múltiples particiones y realizar múltiples iteraciones de entrenamiento y evaluación."
      ],
      "metadata": {
        "id": "34-WiadqQKKI"
      }
    },
    {
      "cell_type": "code",
      "source": [
        "#La validación cruzada estratificad\n",
        "CV =RepeatedStratifiedKFold(n_splits=10, n_repeats=1, random_state=42)"
      ],
      "metadata": {
        "id": "_xgaqL-xPzBz"
      },
      "execution_count": null,
      "outputs": []
    },
    {
      "cell_type": "markdown",
      "source": [
        "1.   n_splits=10: Este parámetro especifica el número de divisiones (o \"pliegues\") que se crearán en la validación cruzada. En este caso, se crean 10 divisiones, lo que significa que el conjunto de datos se dividirá en 10 partes iguales.\n",
        "2.   n_repeats=1: Este parámetro especifica el número de repeticiones de la validación cruzada. Una repetición significa que se realizará el proceso de división y evaluación del modelo múltiples veces. En este caso, se realiza una sola repetición.\n",
        "3.   random_state=42: Este parámetro establece una semilla para la generación de números aleatorios. La semilla asegura que la validación cruzada sea reproducible, es decir, si se utiliza la misma semilla en diferentes ejecuciones, se obtendrá la misma división de datos. Esto es útil para garantizar que los resultados sean coherentes en diferentes ejecuciones.\n",
        "\n",
        "La validación cruzada estratificada es una variante de la validación cruzada que asegura que cada pliegue (fold) mantenga la misma proporción de clases que el conjunto de datos original. Esto es especialmente importante en problemas de clasificación donde las clases pueden estar desbalanceadas. El uso de RepeatedStratifiedKFold en lugar de KFold o StratifiedKFold implica que se realizará la validación cruzada estratificada varias veces (en este caso, una sola repetición) para obtener estimaciones de rendimiento más confiables del modelo.\n",
        "\n"
      ],
      "metadata": {
        "id": "1pikAcAjQMxc"
      }
    },
    {
      "cell_type": "markdown",
      "source": [
        "####**Ajuste de los clasificadores sin seleccion de caracteristicas**"
      ],
      "metadata": {
        "id": "_yeR14HqZyFq"
      }
    },
    {
      "cell_type": "markdown",
      "source": [
        "#####**Entrenamiento**"
      ],
      "metadata": {
        "id": "DFVO7cidurdP"
      }
    },
    {
      "cell_type": "markdown",
      "source": [
        "Esta línea de código está relacionada con la configuración inicial del experimento y la evaluación de los clasificadores en un problema de clasificación de cáncer de mama sin selección de características. Aquí se explican las partes clave de esta línea de código:"
      ],
      "metadata": {
        "id": "5-tmJEyGxVP9"
      }
    },
    {
      "cell_type": "code",
      "source": [
        "#Titulo del experimento\n",
        "titulo = 'Cáncer de Mama sin seleccion de caracteristicas'\n",
        "\n",
        "# Listas para almacenar resultados sin seleccion de caracteristicas:\n",
        "y_predict_proba = {}  # Área bajo la curva ROC\n",
        "y_predict = {}  # Tasas de falsos positivos\n",
        "\n",
        "\n",
        "# Ajustar los clasificadores y evaluar\n",
        "for nombre, clf in Clasificadores.items():\n",
        "    # Obtener los hiperparámetros correspondientes al clasificador actual\n",
        "    param_grid_ = hiperparametros[nombre]\n",
        "\n",
        "    # Ajustar el modelo utilizando validación cruzada y búsqueda de hiperparámetros\n",
        "    clf = GridSearchCV(clf, param_grid=param_grid_, cv=CV, n_jobs=-1, scoring='roc_auc')\n",
        "    clf.fit(X_train, y_train)\n",
        "\n",
        "    # Predecir probabilidades y realizar predicciones sin selección de características\n",
        "    y_predict_proba[nombre] = clf.predict_proba(X_test)[:, 1]  # Probabilidades de clase positiva\n",
        "    y_predict[nombre] = clf.predict(X_test)  # Predicciones de clase"
      ],
      "metadata": {
        "id": "71gbq60Lkqer"
      },
      "execution_count": null,
      "outputs": []
    },
    {
      "cell_type": "markdown",
      "source": [
        "1.   titulo = 'Cáncer de Mama sin seleccion de caracteristicas': Esto crea una variable llamada titulo que almacena un título descriptivo para el experimento. En este caso, el título indica que se trata de un experimento relacionado con el cáncer de mama y que no se ha realizado una selección de características en los datos.\n",
        "2.   y_predict_proba = {}: Esto crea un diccionario vacío llamado y_predict_proba, que se utilizará para almacenar las probabilidades de predicción de clase positiva producidas por los clasificadores. Cada clasificador tendrá su propia lista de probabilidades de predicción.\n",
        "3.   y_predict = {}: Esto crea otro diccionario vacío llamado y_predict, que se utilizará para almacenar las predicciones de clase realizadas por los clasificadores. Al igual que con las probabilidades de predicción, cada clasificador tendrá su propia lista de predicciones de clase.\n",
        "4.   Luego, el código entra en un bucle for que itera a través de los clasificadores definidos en el diccionario Clasificadores. Para cada clasificador, realiza lo siguiente:\n",
        "\n",
        "- Obtener los hiperparámetros correspondientes al clasificador actual desde el diccionario hiperparametros.\n",
        "\n",
        "- Ajustar el modelo utilizando validación cruzada (GridSearchCV) y búsqueda de hiperparámetros. Esto implica entrenar y ajustar el clasificador al conjunto de datos de entrenamiento utilizando diferentes combinaciones de hiperparámetros para encontrar el mejor modelo.\n",
        "\n",
        "- Predecir las probabilidades de clase positiva (y_predict_proba) y las predicciones de clase (y_predict) en el conjunto de datos de prueba (X_test). Estas predicciones se almacenan en los diccionarios correspondientes con el nombre del clasificador como clave.\n",
        "\n",
        "En resumen, esta línea de código inicializa variables esenciales para el experimento, incluyendo un título descriptivo, diccionarios para almacenar resultados y luego ajusta los clasificadores y evalúa su rendimiento en el problema de clasificación de cáncer de mama sin realizar selección de características."
      ],
      "metadata": {
        "id": "wcPv3shcxYKN"
      }
    },
    {
      "cell_type": "markdown",
      "source": [
        "#####**Evaluacion mediante \"Matriz de Confusion\"**"
      ],
      "metadata": {
        "id": "uhMz1RTvu1N1"
      }
    },
    {
      "cell_type": "markdown",
      "source": [
        "Este código se encarga de crear un diseño de gráfico de subplots 2x2 (4 subplots dispuestos en un arreglo de 2 filas y 2 columnas) y mostrar matrices de confusión en cada uno de estos subplots para evaluar el rendimiento de los clasificadores. A continuación, se explica el código en detalle:"
      ],
      "metadata": {
        "id": "SYXXoonRyGSA"
      }
    },
    {
      "cell_type": "code",
      "source": [
        "# Configurar un diseño de subplot 2x2\n",
        "fig, axs = plt.subplots(2, 2, figsize=(12, 10))\n",
        "fig.subplots_adjust(hspace=0.5)  # Espaciado vertical entre subplots\n",
        "\n",
        "# Iterar a través de los clasificadores y sus matrices de confusión\n",
        "for idx, (nombre, clf) in enumerate(Clasificadores.items()):\n",
        "    # Calcular la matriz de confusión\n",
        "    conf_matrix = confusion_matrix(y_test, y_predict[nombre])\n",
        "\n",
        "    # Obtener las coordenadas (fila, columna) del subplot actual\n",
        "    row = idx // 2\n",
        "    col = idx % 2\n",
        "\n",
        "    # Seleccionar el subplot actual\n",
        "    ax = axs[row, col]\n",
        "\n",
        "    # Crear el mapa de calor de la matriz de confusión en el subplot actual\n",
        "    sns.heatmap(conf_matrix, annot=True, fmt='d', cmap='Blues', xticklabels = [\"Maligno\",\"Benigno\"], yticklabels = [\"Maligno\",\"Benigno\"], cbar=False, ax=ax)\n",
        "    ax.set_xlabel('Clase Predicha')\n",
        "    ax.set_ylabel('Clase Real')\n",
        "    ax.set_title(f'Matriz de Confusión - {nombre}')\n",
        "\n",
        "# Establecer  el título del gráfico\n",
        "fig.suptitle(titulo, fontsize=16)\n",
        "# Mostrar los subplots\n",
        "plt.show()"
      ],
      "metadata": {
        "id": "TQhx8qB5m0Fu"
      },
      "execution_count": null,
      "outputs": []
    },
    {
      "cell_type": "markdown",
      "source": [
        "1.   fig, axs = plt.subplots(2, 2, figsize=(12, 10)): Esta línea crea una figura (fig) que contendrá los subplots y una matriz de ejes (axs) que representará los subplots dispuestos en un arreglo de 2 filas y 2 columnas. El argumento figsize establece el tamaño de la figura en 12 pulgadas de ancho y 10 pulgadas de alto.\n",
        "2.   fig.subplots_adjust(hspace=0.5): Esta línea ajusta el espaciado vertical entre los subplots dentro de la figura. El valor hspace (espaciado vertical) se establece en 0.5 para crear un espacio adecuado entre los subplots en la dirección vertical.\n",
        "3.   El bucle for itera a través de los clasificadores y sus correspondientes matrices de confusión. Cada iteración se realiza con el siguiente flujo:\n",
        "\n",
        "- conf_matrix = confusion_matrix(y_test, y_predict[nombre]): Calcula la matriz de confusión para el clasificador actual utilizando las predicciones realizadas (y_predict) y las etiquetas reales (y_test).\n",
        "\n",
        "- row = idx // 2 y col = idx % 2: Estas líneas calculan las coordenadas (fila, columna) del subplot actual en función del índice (idx) del bucle for. Esto asegura que las matrices de confusión se muestren en los subplots correctos de la matriz de subplots 2x2.\n",
        "\n",
        "- ax = axs[row, col]: Selecciona el subplot actual utilizando las coordenadas (fila, columna).\n",
        "\n",
        "- sns.heatmap(conf_matrix, annot=True, fmt='d', cmap='Blues', xticklabels=[\"Maligno\", \"Benigno\"], yticklabels=[\"Maligno\", \"Benigno\"], cbar=False, ax=ax): Crea un mapa de calor (heatmap) de la matriz de confusión en el subplot actual utilizando la librería Seaborn (sns). Los argumentos específicos establecen la visualización de la matriz con anotaciones (números), formato de números enteros, mapa de colores azules y etiquetas para los ejes x e y. También se elimina la barra de colores (cbar=False).\n",
        "\n",
        "- ax.set_xlabel('Clase Predicha'), ax.set_ylabel('Clase Real'), y ax.set_title(f'Matriz de Confusión - {nombre}'): Estas líneas establecen etiquetas para los ejes x e y del subplot actual y un título que indica el nombre del clasificador correspondiente.\n",
        "\n",
        "4.   fig.suptitle(titulo, fontsize=16): Establece un título general para la figura, ubicado en la parte superior, que se basa en la variable titulo definida anteriormente. El argumento fontsize controla el tamaño de la fuente del título.\n",
        "\n",
        "5.   plt.show(): Muestra la figura completa que contiene los subplots de las matrices de confusión.\n",
        "\n",
        "En resumen, este código crea una figura con subplots que contienen las matrices de confusión de los clasificadores y establece etiquetas y títulos apropiados para cada subplot. Esto facilita la comparación visual de las matrices de confusión y la evaluación del rendimiento de los clasificadores."
      ],
      "metadata": {
        "id": "1j46mWfZyM3X"
      }
    },
    {
      "cell_type": "markdown",
      "source": [
        "#####**Evaluacion mediante \"Reporte de clasificacion\"**"
      ],
      "metadata": {
        "id": "sziWJKRtvAuk"
      }
    },
    {
      "cell_type": "markdown",
      "source": [
        "Este código se encarga de generar informes de clasificación para varios clasificadores y mostrar estos informes en un diseño de subplots 2x2. Cada informe de clasificación contiene métricas que evalúan el rendimiento del clasificador en la tarea de clasificación. A continuación, se explica el código paso a paso:"
      ],
      "metadata": {
        "id": "_04M1kEyzNYq"
      }
    },
    {
      "cell_type": "code",
      "source": [
        "# Configurar un diseño de subplot 2x2 para los informes de clasificación\n",
        "fig, axs = plt.subplots(2, 2, figsize=(12, 10))\n",
        "\n",
        "# Iterar a través de los clasificadores y reporte de clasificación\n",
        "for idx, (nombre, clf) in enumerate(Clasificadores.items()):\n",
        "    # Obtener las coordenadas (fila, columna) del subplot actual\n",
        "    row = idx // 2\n",
        "    col = idx % 2\n",
        "\n",
        "    # Seleccionar el subplot actual\n",
        "    ax = axs[row, col]\n",
        "\n",
        "    # Calcular el informe de clasificación\n",
        "    reporte_clasificacion = classification_report(y_test, y_predict[nombre])\n",
        "\n",
        "    # Mostrar el informe de clasificación en el subplot actual\n",
        "    ax.text(0.1, 0.2, f'Informe de Clasificación - {nombre}:\\n{reporte_clasificacion}', fontsize=13, transform=ax.transAxes)\n",
        "    ax.axis('off')  # Eliminar los ejes\n",
        "\n",
        "# Establecer  el título del gráfico\n",
        "fig.suptitle(f'Informe de Clasificación - {titulo}', fontsize=16)\n",
        "# Mostrar los subplots con los informes de clasificación\n",
        "plt.show()\n"
      ],
      "metadata": {
        "id": "eY3VvZ7ErjOS"
      },
      "execution_count": null,
      "outputs": []
    },
    {
      "cell_type": "markdown",
      "source": [
        "1.   fig, axs = plt.subplots(2, 2, figsize=(12, 10)): Crea una figura (fig) con un diseño de subplots 2x2 utilizando plt.subplots(). El argumento figsize establece el tamaño de la figura en 12 pulgadas de ancho y 10 pulgadas de alto. La variable axs representa la matriz de ejes (subplots) dispuestos en filas y columnas.\n",
        "\n",
        "2.   El bucle for itera a través de los clasificadores y sus correspondientes nombres (nombre) y modelos (clf) en el diccionario Clasificadores. Cada iteración se realiza con el siguiente flujo:\n",
        "\n",
        "- row = idx // 2 y col = idx % 2: Estas líneas calculan las coordenadas (fila, columna) del subplot actual en función del índice (idx) del bucle for. Esto asegura que los informes de clasificación se muestren en los subplots correctos de la matriz 2x2.\n",
        "\n",
        "- ax = axs[row, col]: Selecciona el subplot actual utilizando las coordenadas (fila, columna).\n",
        "\n",
        "- reporte_clasificacion = classification_report(y_test, y_predict[nombre]): Calcula el informe de clasificación utilizando la función classification_report. Se compara el conjunto de etiquetas reales (y_test) con las etiquetas predichas por el clasificador correspondiente (y_predict[nombre]).\n",
        "\n",
        "- ax.text(0.1, 0.2, f'Informe de Clasificación - {nombre}:\\n{reporte_clasificacion}', fontsize=13, transform=ax.transAxes): Muestra el informe de clasificación en el subplot actual como un texto. La información se incluye en un formato legible con el nombre del clasificador y las métricas de evaluación. fontsize controla el tamaño de la fuente y transform ajusta la posición del texto dentro del subplot.\n",
        "\n",
        "- ax.axis('off'): Elimina los ejes (etiquetas y líneas) del subplot, ya que los informes de clasificación son texto y no se necesita una representación de ejes.\n",
        "\n",
        "3.   fig.suptitle(f'Informe de Clasificación - {titulo}', fontsize=16): Establece un título general para la figura, ubicado en la parte superior, que se basa en la variable titulo definida previamente. El argumento fontsize controla el tamaño de la fuente del título.\n",
        "\n",
        "4.   plt.show(): Muestra la figura completa que contiene los subplots con los informes de clasificación. Cada subplot muestra el informe de un clasificador diferente.\n",
        "\n",
        "En resumen, este código crea una visualización organizada de informes de clasificación para varios clasificadores en un diseño de subplots 2x2, lo que facilita la comparación del rendimiento de cada clasificador en la tarea de clasificación. Los informes de clasificación incluyen métricas como precisión, recall, F1-score y soporte para cada clase."
      ],
      "metadata": {
        "id": "JyWtDV8EzklG"
      }
    },
    {
      "cell_type": "markdown",
      "source": [
        "#####**Evaluacion mediante \"ROC AUC\"**"
      ],
      "metadata": {
        "id": "SA62ot5HvEgy"
      }
    },
    {
      "cell_type": "markdown",
      "source": [
        "Este código se utiliza para crear un gráfico de la Curva ROC (Receiver Operating Characteristic) y calcular el Área bajo la Curva ROC (ROC AUC) para varios clasificadores en un problema de clasificación binaria. A continuación, se explica el código paso a paso:"
      ],
      "metadata": {
        "id": "FVFtldqf0ECO"
      }
    },
    {
      "cell_type": "code",
      "source": [
        "# Crear una figura de Matplotlib con un tamaño específico para el gráfico\n",
        "plt.figure(figsize=(12, 7))\n",
        "\n",
        "# Iterar a través de los clasificadores en el diccionario 'Clasificadores', los cuales son cuatro.\n",
        "for nombre, clf in Clasificadores.items():\n",
        "\n",
        "  # Calcula las tasas de falsos positivos (FPR) y verdaderos positivos (TPR) utilizando las probabilidades predichas\n",
        "  fpr, tpr, _ = roc_curve(y_test, y_predict_proba[nombre])\n",
        "\n",
        "  # Calcula el área bajo la curva ROC (ROC AUC)\n",
        "  roc_auc = auc(fpr, tpr)\n",
        "\n",
        "  # Agregar la curva ROC al gráfico con el nombre del clasificador y su valor de AUC\n",
        "  plt.plot(fpr, tpr, label=f'{nombre}  (AUC = {roc_auc:.2f})')\n",
        "\n",
        "# Agregar una línea diagonal punteada que representa el rendimiento de un clasificador aleatorio\n",
        "plt.plot([0, 1], [0, 1], 'k--', label='Clasificador aleatorio')\n",
        "\n",
        "# Establecer los límites de los ejes x e y, etiquetar los ejes y el título del gráfico\n",
        "plt.xlim([0.0, 1.0])\n",
        "plt.ylim([0.0, 1.05])\n",
        "plt.xlabel('Tasa de Falsos Positivos')\n",
        "plt.ylabel('Tasa de Verdaderos Positivos')\n",
        "plt.title(f'Curva ROC AUC- {titulo}')\n",
        "\n",
        "# Agregar una leyenda en la esquina inferior derecha para mostrar las etiquetas de los clasificadores\n",
        "plt.legend(loc='lower right')\n",
        "\n",
        "# Mostrar el gráfico en la pantalla\n",
        "plt.show()\n"
      ],
      "metadata": {
        "id": "fKYglWc2lJpw"
      },
      "execution_count": null,
      "outputs": []
    },
    {
      "cell_type": "markdown",
      "source": [
        "1.   plt.figure(figsize=(12, 7)): Se crea una nueva figura de Matplotlib con un tamaño específico de 12 pulgadas de ancho y 7 pulgadas de alto. Esto establece el tamaño de la figura en la que se mostrará el gráfico de la Curva ROC.\n",
        "2.   El bucle for itera a través de los clasificadores y sus nombres (nombre) y modelos (clf) en el diccionario Clasificadores.\n",
        "3.   fpr, tpr, _ = roc_curve(y_test, y_predict_proba[nombre]): En cada iteración, se calculan las tasas de falsos positivos (FPR) y verdaderos positivos (TPR) utilizando la función roc_curve. Estas tasas se calculan utilizando las probabilidades predichas por el clasificador (y_predict_proba[nombre]) y las etiquetas reales de prueba (y_test).\n",
        "4.  roc_auc = auc(fpr, tpr): Se calcula el Área bajo la Curva ROC (ROC AUC) utilizando la función auc. El ROC AUC es una métrica que cuantifica el rendimiento global del clasificador. Cuanto más cercano esté el valor a 1, mejor será el rendimiento del clasificador.\n",
        "5.   plt.plot(fpr, tpr, label=f'{nombre} (AUC = {roc_auc:.2f})'): Se agrega la curva ROC al gráfico utilizando plt.plot(). Cada curva se etiqueta con el nombre del clasificador (nombre) y su valor de ROC AUC, que se muestra en dos decimales ({roc_auc:.2f}).\n",
        "6.  plt.plot([0, 1], [0, 1], 'k--', label='Clasificador aleatorio'): Se agrega una línea diagonal punteada que representa el rendimiento de un clasificador aleatorio. Esta línea se utiliza como referencia para evaluar el rendimiento de los clasificadores.\n",
        "7.   plt.xlim([0.0, 1.0]) y plt.ylim([0.0, 1.05]): Se establecen los límites de los ejes x e y para el gráfico. El eje x representa la tasa de falsos positivos (FPR), que va desde 0 hasta 1, y el eje y representa la tasa de verdaderos positivos (TPR), que también va desde 0 hasta 1.05 para proporcionar espacio adicional en la parte superior del gráfico.\n",
        "8.  plt.xlabel('Tasa de Falsos Positivos') y plt.ylabel('Tasa de Verdaderos Positivos'): Se etiquetan los ejes x e y para indicar qué representan en el gráfico.\n",
        "9.  plt.title(f'Curva ROC AUC- {titulo}'): Se establece el título del gráfico, que incluye el título general basado en la variable titulo.\n",
        "10.  plt.legend(loc='lower right'): Se agrega una leyenda en la esquina inferior derecha del gráfico para mostrar las etiquetas de los clasificadores y sus respectivos valores de ROC AUC.\n",
        "11.  plt.show(): Finalmente, se muestra el gráfico de la Curva ROC en la pantalla, que incluye las curvas ROC de todos los clasificadores y la línea de referencia del clasificador aleatorio.\n",
        "\n",
        "En resumen, este código genera un gráfico de la Curva ROC y calcula el ROC AUC para varios clasificadores, lo que permite comparar el rendimiento de los clasificadores en la tarea de clasificación binaria. La Curva ROC muestra cómo cambia la tasa de verdaderos positivos en función de la tasa de falsos positivos, y el ROC AUC proporciona una medida cuantitativa de la calidad de las predicciones del clasificador."
      ],
      "metadata": {
        "id": "gTv7t-A90FvT"
      }
    },
    {
      "cell_type": "markdown",
      "source": [
        "####**Ajuste de los clasificadores con seleccion de caracteristicas**"
      ],
      "metadata": {
        "id": "X9tIit2e00Kv"
      }
    },
    {
      "cell_type": "markdown",
      "source": [
        "#####**Entrenamiento**"
      ],
      "metadata": {
        "id": "33iMXy8i00Ky"
      }
    },
    {
      "cell_type": "markdown",
      "source": [
        "Esta línea de código está relacionada con la configuración inicial del experimento y la evaluación de los clasificadores en un problema de clasificación de cáncer de mama con selección de características. Aquí se explican las partes clave de esta línea de código:"
      ],
      "metadata": {
        "id": "Oa6Gmvyk00Kz"
      }
    },
    {
      "cell_type": "code",
      "source": [
        "#Titulo del experimento\n",
        "titulo = 'Cáncer de Mama con seleccion de caracteristicas'\n",
        "\n",
        "# Listas para almacenar resultados con seleccion de caracteristicas:\n",
        "y_predict_proba = {}  # Área bajo la curva ROC\n",
        "y_predict = {}  # Tasas de falsos positivos\n",
        "\n",
        "\n",
        "# Ajustar los clasificadores y evaluar\n",
        "for nombre, clf in Clasificadores.items():\n",
        "    # Obtener los hiperparámetros correspondientes al clasificador actual\n",
        "    param_grid_ = hiperparametros[nombre]\n",
        "\n",
        "    # Ajustar el modelo utilizando validación cruzada y búsqueda de hiperparámetros\n",
        "    clf = GridSearchCV(clf, param_grid=param_grid_, cv=CV, n_jobs=-1, scoring='roc_auc')\n",
        "    clf.fit(X_train, y_train)\n",
        "\n",
        "    # Predecir probabilidades y realizar predicciones con selección de características\n",
        "    y_predict_proba[nombre] = clf.predict_proba(X_test)[:, 1]  # Probabilidades de clase positiva\n",
        "    y_predict[nombre] = clf.predict(X_test)  # Predicciones de clase"
      ],
      "metadata": {
        "id": "W4-Qwtgp00K0"
      },
      "execution_count": null,
      "outputs": []
    },
    {
      "cell_type": "markdown",
      "source": [
        "1.   titulo = 'Cáncer de Mama con seleccion de caracteristicas': Esto crea una variable llamada titulo que almacena un título descriptivo para el experimento. En este caso, el título indica que se trata de un experimento relacionado con el cáncer de mama y que se ha realizado una selección de características en los datos.\n",
        "2.   y_predict_proba = {}: Esto crea un diccionario vacío llamado y_predict_proba, que se utilizará para almacenar las probabilidades de predicción de clase positiva producidas por los clasificadores. Cada clasificador tendrá su propia lista de probabilidades de predicción.\n",
        "3.   y_predict = {}: Esto crea otro diccionario vacío llamado y_predict, que se utilizará para almacenar las predicciones de clase realizadas por los clasificadores. Al igual que con las probabilidades de predicción, cada clasificador tendrá su propia lista de predicciones de clase.\n",
        "4.   Luego, el código entra en un bucle for que itera a través de los clasificadores definidos en el diccionario Clasificadores. Para cada clasificador, realiza lo siguiente:\n",
        "\n",
        "- Obtener los hiperparámetros correspondientes al clasificador actual desde el diccionario hiperparametros.\n",
        "\n",
        "- Ajustar el modelo utilizando validación cruzada (GridSearchCV) y búsqueda de hiperparámetros. Esto implica entrenar y ajustar el clasificador al conjunto de datos de entrenamiento utilizando diferentes combinaciones de hiperparámetros para encontrar el mejor modelo.\n",
        "\n",
        "- Predecir las probabilidades de clase positiva (y_predict_proba) y las predicciones de clase (y_predict) en el conjunto de datos de prueba (X_test). Estas predicciones se almacenan en los diccionarios correspondientes con el nombre del clasificador como clave.\n",
        "\n",
        "En resumen, esta línea de código inicializa variables esenciales para el experimento, incluyendo un título descriptivo, diccionarios para almacenar resultados y luego ajusta los clasificadores y evalúa su rendimiento en el problema de clasificación de cáncer de mama con realizar selección de características."
      ],
      "metadata": {
        "id": "0ebcV3K_00K2"
      }
    },
    {
      "cell_type": "markdown",
      "source": [
        "#####**Evaluacion mediante \"Matriz de Confusion\"**"
      ],
      "metadata": {
        "id": "Um0n48NB00K4"
      }
    },
    {
      "cell_type": "markdown",
      "source": [
        "Este código se encarga de crear un diseño de gráfico de subplots 2x2 (4 subplots dispuestos en un arreglo de 2 filas y 2 columnas) y mostrar matrices de confusión en cada uno de estos subplots para evaluar el rendimiento de los clasificadores. A continuación, se explica el código en detalle:"
      ],
      "metadata": {
        "id": "nlUKLZu500K5"
      }
    },
    {
      "cell_type": "code",
      "source": [
        "# Configurar un diseño de subplot 2x2\n",
        "fig, axs = plt.subplots(2, 2, figsize=(12, 10))\n",
        "fig.subplots_adjust(hspace=0.5)  # Espaciado vertical entre subplots\n",
        "\n",
        "# Iterar a través de los clasificadores y sus matrices de confusión\n",
        "for idx, (nombre, clf) in enumerate(Clasificadores.items()):\n",
        "    # Calcular la matriz de confusión\n",
        "    conf_matrix = confusion_matrix(y_test, y_predict[nombre])\n",
        "\n",
        "    # Obtener las coordenadas (fila, columna) del subplot actual\n",
        "    row = idx // 2\n",
        "    col = idx % 2\n",
        "\n",
        "    # Seleccionar el subplot actual\n",
        "    ax = axs[row, col]\n",
        "\n",
        "    # Crear el mapa de calor de la matriz de confusión en el subplot actual\n",
        "    sns.heatmap(conf_matrix, annot=True, fmt='d', cmap='Blues', xticklabels = [\"Maligno\",\"Benigno\"], yticklabels = [\"Maligno\",\"Benigno\"], cbar=False, ax=ax)\n",
        "    ax.set_xlabel('Clase Predicha')\n",
        "    ax.set_ylabel('Clase Real')\n",
        "    ax.set_title(f'Matriz de Confusión - {nombre}')\n",
        "\n",
        "# Establecer  el título del gráfico\n",
        "fig.suptitle(titulo, fontsize=16)\n",
        "# Mostrar los subplots\n",
        "plt.show()"
      ],
      "metadata": {
        "id": "bV63ZH9d00K5"
      },
      "execution_count": null,
      "outputs": []
    },
    {
      "cell_type": "markdown",
      "source": [
        "1.   fig, axs = plt.subplots(2, 2, figsize=(12, 10)): Esta línea crea una figura (fig) que contendrá los subplots y una matriz de ejes (axs) que representará los subplots dispuestos en un arreglo de 2 filas y 2 columnas. El argumento figsize establece el tamaño de la figura en 12 pulgadas de ancho y 10 pulgadas de alto.\n",
        "2.   fig.subplots_adjust(hspace=0.5): Esta línea ajusta el espaciado vertical entre los subplots dentro de la figura. El valor hspace (espaciado vertical) se establece en 0.5 para crear un espacio adecuado entre los subplots en la dirección vertical.\n",
        "3.   El bucle for itera a través de los clasificadores y sus correspondientes matrices de confusión. Cada iteración se realiza con el siguiente flujo:\n",
        "\n",
        "- conf_matrix = confusion_matrix(y_test, y_predict[nombre]): Calcula la matriz de confusión para el clasificador actual utilizando las predicciones realizadas (y_predict) y las etiquetas reales (y_test).\n",
        "\n",
        "- row = idx // 2 y col = idx % 2: Estas líneas calculan las coordenadas (fila, columna) del subplot actual en función del índice (idx) del bucle for. Esto asegura que las matrices de confusión se muestren en los subplots correctos de la matriz de subplots 2x2.\n",
        "\n",
        "- ax = axs[row, col]: Selecciona el subplot actual utilizando las coordenadas (fila, columna).\n",
        "\n",
        "- sns.heatmap(conf_matrix, annot=True, fmt='d', cmap='Blues', xticklabels=[\"Maligno\", \"Benigno\"], yticklabels=[\"Maligno\", \"Benigno\"], cbar=False, ax=ax): Crea un mapa de calor (heatmap) de la matriz de confusión en el subplot actual utilizando la librería Seaborn (sns). Los argumentos específicos establecen la visualización de la matriz con anotaciones (números), formato de números enteros, mapa de colores azules y etiquetas para los ejes x e y. También se elimina la barra de colores (cbar=False).\n",
        "\n",
        "- ax.set_xlabel('Clase Predicha'), ax.set_ylabel('Clase Real'), y ax.set_title(f'Matriz de Confusión - {nombre}'): Estas líneas establecen etiquetas para los ejes x e y del subplot actual y un título que indica el nombre del clasificador correspondiente.\n",
        "\n",
        "4.   fig.suptitle(titulo, fontsize=16): Establece un título general para la figura, ubicado en la parte superior, que se basa en la variable titulo definida anteriormente. El argumento fontsize controla el tamaño de la fuente del título.\n",
        "\n",
        "5.   plt.show(): Muestra la figura completa que contiene los subplots de las matrices de confusión.\n",
        "\n",
        "En resumen, este código crea una figura con subplots que contienen las matrices de confusión de los clasificadores y establece etiquetas y títulos apropiados para cada subplot. Esto facilita la comparación visual de las matrices de confusión y la evaluación del rendimiento de los clasificadores."
      ],
      "metadata": {
        "id": "Oi-AcQLj00K8"
      }
    },
    {
      "cell_type": "markdown",
      "source": [
        "#####**Evaluacion mediante \"Reporte de clasificacion\"**"
      ],
      "metadata": {
        "id": "wdnuscHV00K-"
      }
    },
    {
      "cell_type": "markdown",
      "source": [
        "Este código se encarga de generar informes de clasificación para varios clasificadores y mostrar estos informes en un diseño de subplots 2x2. Cada informe de clasificación contiene métricas que evalúan el rendimiento del clasificador en la tarea de clasificación. A continuación, se explica el código paso a paso:"
      ],
      "metadata": {
        "id": "ktyBFqa200K_"
      }
    },
    {
      "cell_type": "code",
      "source": [
        "# Configurar un diseño de subplot 2x2 para los informes de clasificación\n",
        "fig, axs = plt.subplots(2, 2, figsize=(12, 10))\n",
        "\n",
        "# Iterar a través de los clasificadores y reporte de clasificación\n",
        "for idx, (nombre, clf) in enumerate(Clasificadores.items()):\n",
        "    # Obtener las coordenadas (fila, columna) del subplot actual\n",
        "    row = idx // 2\n",
        "    col = idx % 2\n",
        "\n",
        "    # Seleccionar el subplot actual\n",
        "    ax = axs[row, col]\n",
        "\n",
        "    # Calcular el informe de clasificación\n",
        "    reporte_clasificacion = classification_report(y_test, y_predict[nombre])\n",
        "\n",
        "    # Mostrar el informe de clasificación en el subplot actual\n",
        "    ax.text(0.1, 0.2, f'Informe de Clasificación - {nombre}:\\n{reporte_clasificacion}', fontsize=13, transform=ax.transAxes)\n",
        "    ax.axis('off')  # Eliminar los ejes\n",
        "\n",
        "# Establecer  el título del gráfico\n",
        "fig.suptitle(f'Informe de Clasificación - {titulo}', fontsize=16)\n",
        "# Mostrar los subplots con los informes de clasificación\n",
        "plt.show()\n"
      ],
      "metadata": {
        "id": "mpZgkn3v00LA"
      },
      "execution_count": null,
      "outputs": []
    },
    {
      "cell_type": "markdown",
      "source": [
        "1.   fig, axs = plt.subplots(2, 2, figsize=(12, 10)): Crea una figura (fig) con un diseño de subplots 2x2 utilizando plt.subplots(). El argumento figsize establece el tamaño de la figura en 12 pulgadas de ancho y 10 pulgadas de alto. La variable axs representa la matriz de ejes (subplots) dispuestos en filas y columnas.\n",
        "\n",
        "2.   El bucle for itera a través de los clasificadores y sus correspondientes nombres (nombre) y modelos (clf) en el diccionario Clasificadores. Cada iteración se realiza con el siguiente flujo:\n",
        "\n",
        "- row = idx // 2 y col = idx % 2: Estas líneas calculan las coordenadas (fila, columna) del subplot actual en función del índice (idx) del bucle for. Esto asegura que los informes de clasificación se muestren en los subplots correctos de la matriz 2x2.\n",
        "\n",
        "- ax = axs[row, col]: Selecciona el subplot actual utilizando las coordenadas (fila, columna).\n",
        "\n",
        "- reporte_clasificacion = classification_report(y_test, y_predict[nombre]): Calcula el informe de clasificación utilizando la función classification_report. Se compara el conjunto de etiquetas reales (y_test) con las etiquetas predichas por el clasificador correspondiente (y_predict[nombre]).\n",
        "\n",
        "- ax.text(0.1, 0.2, f'Informe de Clasificación - {nombre}:\\n{reporte_clasificacion}', fontsize=13, transform=ax.transAxes): Muestra el informe de clasificación en el subplot actual como un texto. La información se incluye en un formato legible con el nombre del clasificador y las métricas de evaluación. fontsize controla el tamaño de la fuente y transform ajusta la posición del texto dentro del subplot.\n",
        "\n",
        "- ax.axis('off'): Elimina los ejes (etiquetas y líneas) del subplot, ya que los informes de clasificación son texto y no se necesita una representación de ejes.\n",
        "\n",
        "3.   fig.suptitle(f'Informe de Clasificación - {titulo}', fontsize=16): Establece un título general para la figura, ubicado en la parte superior, que se basa en la variable titulo definida previamente. El argumento fontsize controla el tamaño de la fuente del título.\n",
        "\n",
        "4.   plt.show(): Muestra la figura completa que contiene los subplots con los informes de clasificación. Cada subplot muestra el informe de un clasificador diferente.\n",
        "\n",
        "En resumen, este código crea una visualización organizada de informes de clasificación para varios clasificadores en un diseño de subplots 2x2, lo que facilita la comparación del rendimiento de cada clasificador en la tarea de clasificación. Los informes de clasificación incluyen métricas como precisión, recall, F1-score y soporte para cada clase."
      ],
      "metadata": {
        "id": "6ba6BlsX00LB"
      }
    },
    {
      "cell_type": "markdown",
      "source": [
        "#####**Evaluacion mediante \"ROC AUC\"**"
      ],
      "metadata": {
        "id": "cyCksTAp00LC"
      }
    },
    {
      "cell_type": "markdown",
      "source": [
        "Este código se utiliza para crear un gráfico de la Curva ROC (Receiver Operating Characteristic) y calcular el Área bajo la Curva ROC (ROC AUC) para varios clasificadores en un problema de clasificación binaria. A continuación, se explica el código paso a paso:"
      ],
      "metadata": {
        "id": "q8LpGnP800LD"
      }
    },
    {
      "cell_type": "code",
      "source": [
        "# Crear una figura de Matplotlib con un tamaño específico para el gráfico\n",
        "plt.figure(figsize=(12, 7))\n",
        "\n",
        "# Iterar a través de los clasificadores en el diccionario 'Clasificadores', los cuales son cuatro.\n",
        "for nombre, clf in Clasificadores.items():\n",
        "\n",
        "  # Calcula las tasas de falsos positivos (FPR) y verdaderos positivos (TPR) utilizando las probabilidades predichas\n",
        "  fpr, tpr, _ = roc_curve(y_test, y_predict_proba[nombre])\n",
        "\n",
        "  # Calcula el área bajo la curva ROC (ROC AUC)\n",
        "  roc_auc = auc(fpr, tpr)\n",
        "\n",
        "  # Agregar la curva ROC al gráfico con el nombre del clasificador y su valor de AUC\n",
        "  plt.plot(fpr, tpr, label=f'{nombre}  (AUC = {roc_auc:.2f})')\n",
        "\n",
        "# Agregar una línea diagonal punteada que representa el rendimiento de un clasificador aleatorio\n",
        "plt.plot([0, 1], [0, 1], 'k--', label='Clasificador aleatorio')\n",
        "\n",
        "# Establecer los límites de los ejes x e y, etiquetar los ejes y el título del gráfico\n",
        "plt.xlim([0.0, 1.0])\n",
        "plt.ylim([0.0, 1.05])\n",
        "plt.xlabel('Tasa de Falsos Positivos')\n",
        "plt.ylabel('Tasa de Verdaderos Positivos')\n",
        "plt.title(f'Curva ROC AUC- {titulo}')\n",
        "\n",
        "# Agregar una leyenda en la esquina inferior derecha para mostrar las etiquetas de los clasificadores\n",
        "plt.legend(loc='lower right')\n",
        "\n",
        "# Mostrar el gráfico en la pantalla\n",
        "plt.show()\n"
      ],
      "metadata": {
        "id": "-0DQUMGH00LE"
      },
      "execution_count": null,
      "outputs": []
    },
    {
      "cell_type": "markdown",
      "source": [
        "1.   plt.figure(figsize=(12, 7)): Se crea una nueva figura de Matplotlib con un tamaño específico de 12 pulgadas de ancho y 7 pulgadas de alto. Esto establece el tamaño de la figura en la que se mostrará el gráfico de la Curva ROC.\n",
        "2.   El bucle for itera a través de los clasificadores y sus nombres (nombre) y modelos (clf) en el diccionario Clasificadores.\n",
        "3.   fpr, tpr, _ = roc_curve(y_test, y_predict_proba[nombre]): En cada iteración, se calculan las tasas de falsos positivos (FPR) y verdaderos positivos (TPR) utilizando la función roc_curve. Estas tasas se calculan utilizando las probabilidades predichas por el clasificador (y_predict_proba[nombre]) y las etiquetas reales de prueba (y_test).\n",
        "4.  roc_auc = auc(fpr, tpr): Se calcula el Área bajo la Curva ROC (ROC AUC) utilizando la función auc. El ROC AUC es una métrica que cuantifica el rendimiento global del clasificador. Cuanto más cercano esté el valor a 1, mejor será el rendimiento del clasificador.\n",
        "5.   plt.plot(fpr, tpr, label=f'{nombre} (AUC = {roc_auc:.2f})'): Se agrega la curva ROC al gráfico utilizando plt.plot(). Cada curva se etiqueta con el nombre del clasificador (nombre) y su valor de ROC AUC, que se muestra en dos decimales ({roc_auc:.2f}).\n",
        "6.  plt.plot([0, 1], [0, 1], 'k--', label='Clasificador aleatorio'): Se agrega una línea diagonal punteada que representa el rendimiento de un clasificador aleatorio. Esta línea se utiliza como referencia para evaluar el rendimiento de los clasificadores.\n",
        "7.   plt.xlim([0.0, 1.0]) y plt.ylim([0.0, 1.05]): Se establecen los límites de los ejes x e y para el gráfico. El eje x representa la tasa de falsos positivos (FPR), que va desde 0 hasta 1, y el eje y representa la tasa de verdaderos positivos (TPR), que también va desde 0 hasta 1.05 para proporcionar espacio adicional en la parte superior del gráfico.\n",
        "8.  plt.xlabel('Tasa de Falsos Positivos') y plt.ylabel('Tasa de Verdaderos Positivos'): Se etiquetan los ejes x e y para indicar qué representan en el gráfico.\n",
        "9.  plt.title(f'Curva ROC AUC- {titulo}'): Se establece el título del gráfico, que incluye el título general basado en la variable titulo.\n",
        "10.  plt.legend(loc='lower right'): Se agrega una leyenda en la esquina inferior derecha del gráfico para mostrar las etiquetas de los clasificadores y sus respectivos valores de ROC AUC.\n",
        "11.  plt.show(): Finalmente, se muestra el gráfico de la Curva ROC en la pantalla, que incluye las curvas ROC de todos los clasificadores y la línea de referencia del clasificador aleatorio.\n",
        "\n",
        "En resumen, este código genera un gráfico de la Curva ROC y calcula el ROC AUC para varios clasificadores, lo que permite comparar el rendimiento de los clasificadores en la tarea de clasificación binaria. La Curva ROC muestra cómo cambia la tasa de verdaderos positivos en función de la tasa de falsos positivos, y el ROC AUC proporciona una medida cuantitativa de la calidad de las predicciones del clasificador."
      ],
      "metadata": {
        "id": "Fcy-jfHF00LG"
      }
    }
  ]
}